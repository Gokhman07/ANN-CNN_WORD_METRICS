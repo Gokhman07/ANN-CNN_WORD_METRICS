{
  "nbformat": 4,
  "nbformat_minor": 0,
  "metadata": {
    "colab": {
      "provenance": [],
      "collapsed_sections": []
    },
    "kernelspec": {
      "display_name": "Python 3",
      "name": "python3"
    },
    "widgets": {
      "application/vnd.jupyter.widget-state+json": {
        "4ad85d7a1178489c8dacebc3b1f5abab": {
          "model_module": "@jupyter-widgets/controls",
          "model_name": "VBoxModel",
          "model_module_version": "1.5.0",
          "state": {
            "_dom_classes": [],
            "_model_module": "@jupyter-widgets/controls",
            "_model_module_version": "1.5.0",
            "_model_name": "VBoxModel",
            "_view_count": null,
            "_view_module": "@jupyter-widgets/controls",
            "_view_module_version": "1.5.0",
            "_view_name": "VBoxView",
            "box_style": "",
            "children": [
              "IPY_MODEL_9912c5952d974bca8288899ef8167d43",
              "IPY_MODEL_90648828edb64eb48ae73cf951817c76"
            ],
            "layout": "IPY_MODEL_3ec4e09c102e4bdfad76df64b273d940"
          }
        },
        "9912c5952d974bca8288899ef8167d43": {
          "model_module": "@jupyter-widgets/controls",
          "model_name": "LabelModel",
          "model_module_version": "1.5.0",
          "state": {
            "_dom_classes": [],
            "_model_module": "@jupyter-widgets/controls",
            "_model_module_version": "1.5.0",
            "_model_name": "LabelModel",
            "_view_count": null,
            "_view_module": "@jupyter-widgets/controls",
            "_view_module_version": "1.5.0",
            "_view_name": "LabelView",
            "description": "",
            "description_tooltip": null,
            "layout": "IPY_MODEL_fab6357667554c66a12e126fecbe2623",
            "placeholder": "​",
            "style": "IPY_MODEL_2df17294b5e74cbb9027960aa4d60d8e",
            "value": " 0.01MB of 0.01MB uploaded (0.00MB deduped)\r"
          }
        },
        "90648828edb64eb48ae73cf951817c76": {
          "model_module": "@jupyter-widgets/controls",
          "model_name": "FloatProgressModel",
          "model_module_version": "1.5.0",
          "state": {
            "_dom_classes": [],
            "_model_module": "@jupyter-widgets/controls",
            "_model_module_version": "1.5.0",
            "_model_name": "FloatProgressModel",
            "_view_count": null,
            "_view_module": "@jupyter-widgets/controls",
            "_view_module_version": "1.5.0",
            "_view_name": "ProgressView",
            "bar_style": "",
            "description": "",
            "description_tooltip": null,
            "layout": "IPY_MODEL_5fc8738f3e64431aaff4a9ee1155b0a0",
            "max": 1,
            "min": 0,
            "orientation": "horizontal",
            "style": "IPY_MODEL_20637c3c35584490ba5eba140681fb69",
            "value": 1
          }
        },
        "3ec4e09c102e4bdfad76df64b273d940": {
          "model_module": "@jupyter-widgets/base",
          "model_name": "LayoutModel",
          "model_module_version": "1.2.0",
          "state": {
            "_model_module": "@jupyter-widgets/base",
            "_model_module_version": "1.2.0",
            "_model_name": "LayoutModel",
            "_view_count": null,
            "_view_module": "@jupyter-widgets/base",
            "_view_module_version": "1.2.0",
            "_view_name": "LayoutView",
            "align_content": null,
            "align_items": null,
            "align_self": null,
            "border": null,
            "bottom": null,
            "display": null,
            "flex": null,
            "flex_flow": null,
            "grid_area": null,
            "grid_auto_columns": null,
            "grid_auto_flow": null,
            "grid_auto_rows": null,
            "grid_column": null,
            "grid_gap": null,
            "grid_row": null,
            "grid_template_areas": null,
            "grid_template_columns": null,
            "grid_template_rows": null,
            "height": null,
            "justify_content": null,
            "justify_items": null,
            "left": null,
            "margin": null,
            "max_height": null,
            "max_width": null,
            "min_height": null,
            "min_width": null,
            "object_fit": null,
            "object_position": null,
            "order": null,
            "overflow": null,
            "overflow_x": null,
            "overflow_y": null,
            "padding": null,
            "right": null,
            "top": null,
            "visibility": null,
            "width": null
          }
        },
        "fab6357667554c66a12e126fecbe2623": {
          "model_module": "@jupyter-widgets/base",
          "model_name": "LayoutModel",
          "model_module_version": "1.2.0",
          "state": {
            "_model_module": "@jupyter-widgets/base",
            "_model_module_version": "1.2.0",
            "_model_name": "LayoutModel",
            "_view_count": null,
            "_view_module": "@jupyter-widgets/base",
            "_view_module_version": "1.2.0",
            "_view_name": "LayoutView",
            "align_content": null,
            "align_items": null,
            "align_self": null,
            "border": null,
            "bottom": null,
            "display": null,
            "flex": null,
            "flex_flow": null,
            "grid_area": null,
            "grid_auto_columns": null,
            "grid_auto_flow": null,
            "grid_auto_rows": null,
            "grid_column": null,
            "grid_gap": null,
            "grid_row": null,
            "grid_template_areas": null,
            "grid_template_columns": null,
            "grid_template_rows": null,
            "height": null,
            "justify_content": null,
            "justify_items": null,
            "left": null,
            "margin": null,
            "max_height": null,
            "max_width": null,
            "min_height": null,
            "min_width": null,
            "object_fit": null,
            "object_position": null,
            "order": null,
            "overflow": null,
            "overflow_x": null,
            "overflow_y": null,
            "padding": null,
            "right": null,
            "top": null,
            "visibility": null,
            "width": null
          }
        },
        "2df17294b5e74cbb9027960aa4d60d8e": {
          "model_module": "@jupyter-widgets/controls",
          "model_name": "DescriptionStyleModel",
          "model_module_version": "1.5.0",
          "state": {
            "_model_module": "@jupyter-widgets/controls",
            "_model_module_version": "1.5.0",
            "_model_name": "DescriptionStyleModel",
            "_view_count": null,
            "_view_module": "@jupyter-widgets/base",
            "_view_module_version": "1.2.0",
            "_view_name": "StyleView",
            "description_width": ""
          }
        },
        "5fc8738f3e64431aaff4a9ee1155b0a0": {
          "model_module": "@jupyter-widgets/base",
          "model_name": "LayoutModel",
          "model_module_version": "1.2.0",
          "state": {
            "_model_module": "@jupyter-widgets/base",
            "_model_module_version": "1.2.0",
            "_model_name": "LayoutModel",
            "_view_count": null,
            "_view_module": "@jupyter-widgets/base",
            "_view_module_version": "1.2.0",
            "_view_name": "LayoutView",
            "align_content": null,
            "align_items": null,
            "align_self": null,
            "border": null,
            "bottom": null,
            "display": null,
            "flex": null,
            "flex_flow": null,
            "grid_area": null,
            "grid_auto_columns": null,
            "grid_auto_flow": null,
            "grid_auto_rows": null,
            "grid_column": null,
            "grid_gap": null,
            "grid_row": null,
            "grid_template_areas": null,
            "grid_template_columns": null,
            "grid_template_rows": null,
            "height": null,
            "justify_content": null,
            "justify_items": null,
            "left": null,
            "margin": null,
            "max_height": null,
            "max_width": null,
            "min_height": null,
            "min_width": null,
            "object_fit": null,
            "object_position": null,
            "order": null,
            "overflow": null,
            "overflow_x": null,
            "overflow_y": null,
            "padding": null,
            "right": null,
            "top": null,
            "visibility": null,
            "width": null
          }
        },
        "20637c3c35584490ba5eba140681fb69": {
          "model_module": "@jupyter-widgets/controls",
          "model_name": "ProgressStyleModel",
          "model_module_version": "1.5.0",
          "state": {
            "_model_module": "@jupyter-widgets/controls",
            "_model_module_version": "1.5.0",
            "_model_name": "ProgressStyleModel",
            "_view_count": null,
            "_view_module": "@jupyter-widgets/base",
            "_view_module_version": "1.2.0",
            "_view_name": "StyleView",
            "bar_color": null,
            "description_width": ""
          }
        }
      }
    }
  },
  "cells": [
    {
      "cell_type": "code",
      "metadata": {
        "id": "pzFMdK9-kFYV"
      },
      "source": [
        "def word_metrics(text):\n",
        "    def statistic_metric(text):\n",
        "        words = text.split()\n",
        "        Sum = 0\n",
        "\n",
        "        for word in words:\n",
        "            for i in word:\n",
        "                Sum = Sum + ord(i) * word.count(i) / len(word) * (len(word) - word.index(i))\n",
        "        return Sum/10**4\n",
        "\n",
        "    def arithmetic_coding(text):\n",
        "\n",
        "   \n",
        "\n",
        "        class Segment:\n",
        "            left = None\n",
        "            right = None\n",
        "            character = None\n",
        "\n",
        "            def output(self):\n",
        "                print(self.right, self.left, self.character)\n",
        "\n",
        "        def define_segments(letters, probability):\n",
        "\n",
        "            segment = []\n",
        "            l = 0\n",
        "            for i in range(0, len(letters)):\n",
        "                segment.append(Segment())\n",
        "                segment[i].left = l\n",
        "                segment[i].right = l + probability[i]\n",
        "                l = segment[i].right\n",
        "                segment[i].character = letters[i]\n",
        "\n",
        "            return segment\n",
        "\n",
        "        letters = []\n",
        "        probability = []\n",
        "        segment = []\n",
        "\n",
        "        left = 0\n",
        "        right = 1\n",
        "\n",
        "   \n",
        "        for i in text:\n",
        "            if i not in letters:\n",
        "                letters.append(i)\n",
        "\n",
        "      \n",
        "        for i in letters:\n",
        "            probability.append(text.count(i) / len(text))\n",
        "\n",
        " \n",
        "        segment = define_segments(letters, probability)\n",
        "\n",
        "        for i in text:\n",
        "            id = 0\n",
        "            id = letters.index(i)\n",
        "            newRight = left + (right - left) * segment[id].right\n",
        "            newLeft = left + (right - left) * segment[id].left\n",
        "            left = newLeft\n",
        "            right = newRight\n",
        "\n",
        "        return (left + right) / 2\n",
        "\n",
        "    def string_to_decimal(text):\n",
        "        dec = 0\n",
        "\n",
        "        words = text.split()\n",
        "\n",
        "        for word in words:\n",
        "  \n",
        "            index = 10 ** 4\n",
        "            for i in range(len(word)):\n",
        "\n",
        "                index=i//2 + 1\n",
        "                \n",
        "                y = 0\n",
        "        \n",
        "                dec = dec + (ord(word[i]))*(i+1)\n",
        "           \n",
        "        return dec/10**5\n",
        "\n",
        "   \n",
        "    return [statistic_metric(text), string_to_decimal(text),arithmetic_coding(text)]"
      ],
      "execution_count": null,
      "outputs": []
    },
    {
      "cell_type": "code",
      "metadata": {
        "id": "KTPXNXyJDg6I"
      },
      "source": [
        "import pandas as pd\n",
        "import numpy as np\n",
        "import os\n",
        "import tensorflow as tf"
      ],
      "execution_count": null,
      "outputs": []
    },
    {
      "cell_type": "code",
      "metadata": {
        "colab": {
          "base_uri": "https://localhost:8080/"
        },
        "id": "3tJtI-l_VXaN",
        "outputId": "af9d8944-7fe4-46e6-8c0a-32e1b96dcbde"
      },
      "source": [
        "from google.colab import drive\n",
        "drive.mount('/content/gdrive')"
      ],
      "execution_count": null,
      "outputs": [
        {
          "output_type": "stream",
          "name": "stdout",
          "text": [
            "Mounted at /content/gdrive\n"
          ]
        }
      ]
    },
    {
      "cell_type": "code",
      "metadata": {
        "colab": {
          "base_uri": "https://localhost:8080/"
        },
        "id": "TC-VhqYkwxDS",
        "outputId": "a09b913d-a9d5-4394-db48-b26288d4d809"
      },
      "source": [
        "import tensorflow as tf\n",
        "print(tf.__version__)"
      ],
      "execution_count": null,
      "outputs": [
        {
          "output_type": "stream",
          "name": "stdout",
          "text": [
            "2.8.0\n"
          ]
        }
      ]
    },
    {
      "cell_type": "code",
      "metadata": {
        "id": "0nozm11GVk_x"
      },
      "source": [
        "original_path = '/content/gdrive/My Drive/Datasets'"
      ],
      "execution_count": null,
      "outputs": []
    },
    {
      "cell_type": "code",
      "metadata": {
        "colab": {
          "base_uri": "https://localhost:8080/",
          "height": 35
        },
        "id": "GCdiaOb7ZKF9",
        "outputId": "16f8f4bb-3e25-4848-c027-925819e6759f"
      },
      "source": [
        "data_dir = os.path.join(original_path)\n",
        "data_dir"
      ],
      "execution_count": null,
      "outputs": [
        {
          "output_type": "execute_result",
          "data": {
            "text/plain": [
              "'/content/gdrive/My Drive/Datasets'"
            ],
            "application/vnd.google.colaboratory.intrinsic+json": {
              "type": "string"
            }
          },
          "metadata": {},
          "execution_count": 7
        }
      ]
    },
    {
      "cell_type": "code",
      "metadata": {
        "id": "SgDL4QctWJL4"
      },
      "source": [
        "df_url=os.path.join(data_dir, 'big_data.json')\n"
      ],
      "execution_count": null,
      "outputs": []
    },
    {
      "cell_type": "code",
      "metadata": {
        "id": "0PLoi4pJDonT"
      },
      "source": [
        "data=pd.read_json(df_url)"
      ],
      "execution_count": null,
      "outputs": []
    },
    {
      "cell_type": "code",
      "metadata": {
        "colab": {
          "base_uri": "https://localhost:8080/",
          "height": 206
        },
        "id": "Zd-hAbRNKJVZ",
        "outputId": "f8ec7a10-78f1-4644-c0bc-6aa953973890"
      },
      "source": [
        "data.head()"
      ],
      "execution_count": null,
      "outputs": [
        {
          "output_type": "execute_result",
          "data": {
            "text/plain": [
              "                                                rows\n",
              "0  {'element': {'css_borderColor': 'rgba(0, 0, 0,...\n",
              "1  {'element': {'css_paddingLeft': '11px', 'phant...\n",
              "2  {'element': {'css_backgroundColor': 'rgb(239, ...\n",
              "3  {'element': {'id': 'GLUXZipUpdateInput', 'css_...\n",
              "4  {'element': {'css_height': '30px', 'css_justif..."
            ],
            "text/html": [
              "\n",
              "  <div id=\"df-983839ae-ff57-405f-bed7-38da5a5b4482\">\n",
              "    <div class=\"colab-df-container\">\n",
              "      <div>\n",
              "<style scoped>\n",
              "    .dataframe tbody tr th:only-of-type {\n",
              "        vertical-align: middle;\n",
              "    }\n",
              "\n",
              "    .dataframe tbody tr th {\n",
              "        vertical-align: top;\n",
              "    }\n",
              "\n",
              "    .dataframe thead th {\n",
              "        text-align: right;\n",
              "    }\n",
              "</style>\n",
              "<table border=\"1\" class=\"dataframe\">\n",
              "  <thead>\n",
              "    <tr style=\"text-align: right;\">\n",
              "      <th></th>\n",
              "      <th>rows</th>\n",
              "    </tr>\n",
              "  </thead>\n",
              "  <tbody>\n",
              "    <tr>\n",
              "      <th>0</th>\n",
              "      <td>{'element': {'css_borderColor': 'rgba(0, 0, 0,...</td>\n",
              "    </tr>\n",
              "    <tr>\n",
              "      <th>1</th>\n",
              "      <td>{'element': {'css_paddingLeft': '11px', 'phant...</td>\n",
              "    </tr>\n",
              "    <tr>\n",
              "      <th>2</th>\n",
              "      <td>{'element': {'css_backgroundColor': 'rgb(239, ...</td>\n",
              "    </tr>\n",
              "    <tr>\n",
              "      <th>3</th>\n",
              "      <td>{'element': {'id': 'GLUXZipUpdateInput', 'css_...</td>\n",
              "    </tr>\n",
              "    <tr>\n",
              "      <th>4</th>\n",
              "      <td>{'element': {'css_height': '30px', 'css_justif...</td>\n",
              "    </tr>\n",
              "  </tbody>\n",
              "</table>\n",
              "</div>\n",
              "      <button class=\"colab-df-convert\" onclick=\"convertToInteractive('df-983839ae-ff57-405f-bed7-38da5a5b4482')\"\n",
              "              title=\"Convert this dataframe to an interactive table.\"\n",
              "              style=\"display:none;\">\n",
              "        \n",
              "  <svg xmlns=\"http://www.w3.org/2000/svg\" height=\"24px\"viewBox=\"0 0 24 24\"\n",
              "       width=\"24px\">\n",
              "    <path d=\"M0 0h24v24H0V0z\" fill=\"none\"/>\n",
              "    <path d=\"M18.56 5.44l.94 2.06.94-2.06 2.06-.94-2.06-.94-.94-2.06-.94 2.06-2.06.94zm-11 1L8.5 8.5l.94-2.06 2.06-.94-2.06-.94L8.5 2.5l-.94 2.06-2.06.94zm10 10l.94 2.06.94-2.06 2.06-.94-2.06-.94-.94-2.06-.94 2.06-2.06.94z\"/><path d=\"M17.41 7.96l-1.37-1.37c-.4-.4-.92-.59-1.43-.59-.52 0-1.04.2-1.43.59L10.3 9.45l-7.72 7.72c-.78.78-.78 2.05 0 2.83L4 21.41c.39.39.9.59 1.41.59.51 0 1.02-.2 1.41-.59l7.78-7.78 2.81-2.81c.8-.78.8-2.07 0-2.86zM5.41 20L4 18.59l7.72-7.72 1.47 1.35L5.41 20z\"/>\n",
              "  </svg>\n",
              "      </button>\n",
              "      \n",
              "  <style>\n",
              "    .colab-df-container {\n",
              "      display:flex;\n",
              "      flex-wrap:wrap;\n",
              "      gap: 12px;\n",
              "    }\n",
              "\n",
              "    .colab-df-convert {\n",
              "      background-color: #E8F0FE;\n",
              "      border: none;\n",
              "      border-radius: 50%;\n",
              "      cursor: pointer;\n",
              "      display: none;\n",
              "      fill: #1967D2;\n",
              "      height: 32px;\n",
              "      padding: 0 0 0 0;\n",
              "      width: 32px;\n",
              "    }\n",
              "\n",
              "    .colab-df-convert:hover {\n",
              "      background-color: #E2EBFA;\n",
              "      box-shadow: 0px 1px 2px rgba(60, 64, 67, 0.3), 0px 1px 3px 1px rgba(60, 64, 67, 0.15);\n",
              "      fill: #174EA6;\n",
              "    }\n",
              "\n",
              "    [theme=dark] .colab-df-convert {\n",
              "      background-color: #3B4455;\n",
              "      fill: #D2E3FC;\n",
              "    }\n",
              "\n",
              "    [theme=dark] .colab-df-convert:hover {\n",
              "      background-color: #434B5C;\n",
              "      box-shadow: 0px 1px 3px 1px rgba(0, 0, 0, 0.15);\n",
              "      filter: drop-shadow(0px 1px 2px rgba(0, 0, 0, 0.3));\n",
              "      fill: #FFFFFF;\n",
              "    }\n",
              "  </style>\n",
              "\n",
              "      <script>\n",
              "        const buttonEl =\n",
              "          document.querySelector('#df-983839ae-ff57-405f-bed7-38da5a5b4482 button.colab-df-convert');\n",
              "        buttonEl.style.display =\n",
              "          google.colab.kernel.accessAllowed ? 'block' : 'none';\n",
              "\n",
              "        async function convertToInteractive(key) {\n",
              "          const element = document.querySelector('#df-983839ae-ff57-405f-bed7-38da5a5b4482');\n",
              "          const dataTable =\n",
              "            await google.colab.kernel.invokeFunction('convertToInteractive',\n",
              "                                                     [key], {});\n",
              "          if (!dataTable) return;\n",
              "\n",
              "          const docLinkHtml = 'Like what you see? Visit the ' +\n",
              "            '<a target=\"_blank\" href=https://colab.research.google.com/notebooks/data_table.ipynb>data table notebook</a>'\n",
              "            + ' to learn more about interactive tables.';\n",
              "          element.innerHTML = '';\n",
              "          dataTable['output_type'] = 'display_data';\n",
              "          await google.colab.output.renderOutput(dataTable, element);\n",
              "          const docLink = document.createElement('div');\n",
              "          docLink.innerHTML = docLinkHtml;\n",
              "          element.appendChild(docLink);\n",
              "        }\n",
              "      </script>\n",
              "    </div>\n",
              "  </div>\n",
              "  "
            ]
          },
          "metadata": {},
          "execution_count": 14
        }
      ]
    },
    {
      "cell_type": "code",
      "metadata": {
        "colab": {
          "base_uri": "https://localhost:8080/",
          "height": 35
        },
        "id": "16hD0glrBpK7",
        "outputId": "2859d25c-523e-423f-e0e0-9bb6a3badabc"
      },
      "source": [
        "data_dir2 = os.path.join('/content/gdrive/My Drive/Datasets/output')\n",
        "data_dir2###################"
      ],
      "execution_count": null,
      "outputs": [
        {
          "output_type": "execute_result",
          "data": {
            "text/plain": [
              "'/content/gdrive/My Drive/Datasets/output'"
            ],
            "application/vnd.google.colaboratory.intrinsic+json": {
              "type": "string"
            }
          },
          "metadata": {},
          "execution_count": 15
        }
      ]
    },
    {
      "cell_type": "code",
      "metadata": {
        "colab": {
          "base_uri": "https://localhost:8080/",
          "height": 49
        },
        "id": "_OZph98XAf0Y",
        "outputId": "14bfad7a-d243-4433-fa98-9b74d31ca895"
      },
      "source": [
        "dic={\n",
        "     'element':[],\n",
        "     'signature':[],\n",
        "     'prediction':[]\n",
        "}\n",
        "df=pd.DataFrame(dic)\n",
        "df\n"
      ],
      "execution_count": null,
      "outputs": [
        {
          "output_type": "execute_result",
          "data": {
            "text/plain": [
              "Empty DataFrame\n",
              "Columns: [element, signature, prediction]\n",
              "Index: []"
            ],
            "text/html": [
              "\n",
              "  <div id=\"df-4f8d978f-c31b-40a7-994f-7f7c40f2743f\">\n",
              "    <div class=\"colab-df-container\">\n",
              "      <div>\n",
              "<style scoped>\n",
              "    .dataframe tbody tr th:only-of-type {\n",
              "        vertical-align: middle;\n",
              "    }\n",
              "\n",
              "    .dataframe tbody tr th {\n",
              "        vertical-align: top;\n",
              "    }\n",
              "\n",
              "    .dataframe thead th {\n",
              "        text-align: right;\n",
              "    }\n",
              "</style>\n",
              "<table border=\"1\" class=\"dataframe\">\n",
              "  <thead>\n",
              "    <tr style=\"text-align: right;\">\n",
              "      <th></th>\n",
              "      <th>element</th>\n",
              "      <th>signature</th>\n",
              "      <th>prediction</th>\n",
              "    </tr>\n",
              "  </thead>\n",
              "  <tbody>\n",
              "  </tbody>\n",
              "</table>\n",
              "</div>\n",
              "      <button class=\"colab-df-convert\" onclick=\"convertToInteractive('df-4f8d978f-c31b-40a7-994f-7f7c40f2743f')\"\n",
              "              title=\"Convert this dataframe to an interactive table.\"\n",
              "              style=\"display:none;\">\n",
              "        \n",
              "  <svg xmlns=\"http://www.w3.org/2000/svg\" height=\"24px\"viewBox=\"0 0 24 24\"\n",
              "       width=\"24px\">\n",
              "    <path d=\"M0 0h24v24H0V0z\" fill=\"none\"/>\n",
              "    <path d=\"M18.56 5.44l.94 2.06.94-2.06 2.06-.94-2.06-.94-.94-2.06-.94 2.06-2.06.94zm-11 1L8.5 8.5l.94-2.06 2.06-.94-2.06-.94L8.5 2.5l-.94 2.06-2.06.94zm10 10l.94 2.06.94-2.06 2.06-.94-2.06-.94-.94-2.06-.94 2.06-2.06.94z\"/><path d=\"M17.41 7.96l-1.37-1.37c-.4-.4-.92-.59-1.43-.59-.52 0-1.04.2-1.43.59L10.3 9.45l-7.72 7.72c-.78.78-.78 2.05 0 2.83L4 21.41c.39.39.9.59 1.41.59.51 0 1.02-.2 1.41-.59l7.78-7.78 2.81-2.81c.8-.78.8-2.07 0-2.86zM5.41 20L4 18.59l7.72-7.72 1.47 1.35L5.41 20z\"/>\n",
              "  </svg>\n",
              "      </button>\n",
              "      \n",
              "  <style>\n",
              "    .colab-df-container {\n",
              "      display:flex;\n",
              "      flex-wrap:wrap;\n",
              "      gap: 12px;\n",
              "    }\n",
              "\n",
              "    .colab-df-convert {\n",
              "      background-color: #E8F0FE;\n",
              "      border: none;\n",
              "      border-radius: 50%;\n",
              "      cursor: pointer;\n",
              "      display: none;\n",
              "      fill: #1967D2;\n",
              "      height: 32px;\n",
              "      padding: 0 0 0 0;\n",
              "      width: 32px;\n",
              "    }\n",
              "\n",
              "    .colab-df-convert:hover {\n",
              "      background-color: #E2EBFA;\n",
              "      box-shadow: 0px 1px 2px rgba(60, 64, 67, 0.3), 0px 1px 3px 1px rgba(60, 64, 67, 0.15);\n",
              "      fill: #174EA6;\n",
              "    }\n",
              "\n",
              "    [theme=dark] .colab-df-convert {\n",
              "      background-color: #3B4455;\n",
              "      fill: #D2E3FC;\n",
              "    }\n",
              "\n",
              "    [theme=dark] .colab-df-convert:hover {\n",
              "      background-color: #434B5C;\n",
              "      box-shadow: 0px 1px 3px 1px rgba(0, 0, 0, 0.15);\n",
              "      filter: drop-shadow(0px 1px 2px rgba(0, 0, 0, 0.3));\n",
              "      fill: #FFFFFF;\n",
              "    }\n",
              "  </style>\n",
              "\n",
              "      <script>\n",
              "        const buttonEl =\n",
              "          document.querySelector('#df-4f8d978f-c31b-40a7-994f-7f7c40f2743f button.colab-df-convert');\n",
              "        buttonEl.style.display =\n",
              "          google.colab.kernel.accessAllowed ? 'block' : 'none';\n",
              "\n",
              "        async function convertToInteractive(key) {\n",
              "          const element = document.querySelector('#df-4f8d978f-c31b-40a7-994f-7f7c40f2743f');\n",
              "          const dataTable =\n",
              "            await google.colab.kernel.invokeFunction('convertToInteractive',\n",
              "                                                     [key], {});\n",
              "          if (!dataTable) return;\n",
              "\n",
              "          const docLinkHtml = 'Like what you see? Visit the ' +\n",
              "            '<a target=\"_blank\" href=https://colab.research.google.com/notebooks/data_table.ipynb>data table notebook</a>'\n",
              "            + ' to learn more about interactive tables.';\n",
              "          element.innerHTML = '';\n",
              "          dataTable['output_type'] = 'display_data';\n",
              "          await google.colab.output.renderOutput(dataTable, element);\n",
              "          const docLink = document.createElement('div');\n",
              "          docLink.innerHTML = docLinkHtml;\n",
              "          element.appendChild(docLink);\n",
              "        }\n",
              "      </script>\n",
              "    </div>\n",
              "  </div>\n",
              "  "
            ]
          },
          "metadata": {},
          "execution_count": 16
        }
      ]
    },
    {
      "cell_type": "code",
      "metadata": {
        "id": "7gLhOl7r1Sov"
      },
      "source": [
        "k=0\n",
        "for i in data.rows.copy():\n",
        "  df.loc[k]=[i['element'],i['signature'],i['prediction']]\n",
        "  k=k+1\n",
        "\n"
      ],
      "execution_count": null,
      "outputs": []
    },
    {
      "cell_type": "code",
      "metadata": {
        "colab": {
          "base_uri": "https://localhost:8080/",
          "height": 206
        },
        "id": "m4EjNcCSoR_L",
        "outputId": "48bcdffd-3384-409b-dee2-cd56726abe92"
      },
      "source": [
        "df.head()"
      ],
      "execution_count": null,
      "outputs": [
        {
          "output_type": "execute_result",
          "data": {
            "text/plain": [
              "                                             element  \\\n",
              "0  {'css_borderColor': 'rgba(0, 0, 0, 0)', 'css_b...   \n",
              "1  {'css_paddingLeft': '11px', 'phantom_text_valu...   \n",
              "2  {'css_backgroundColor': 'rgb(239, 239, 239)', ...   \n",
              "3  {'id': 'GLUXZipUpdateInput', 'css_height': '31...   \n",
              "4  {'css_height': '30px', 'css_justifyContent': '...   \n",
              "\n",
              "                                           signature  prediction  \n",
              "0  {'css_fontFamily': 'Arial, sans-serif', 'css_t...         0.0  \n",
              "1  {'css_background': 'rgba(0, 0, 0, 0) none repe...         1.0  \n",
              "2  {'css_textTransform': 'none', 'attr_aria-label...         0.0  \n",
              "3  {'css_backgroundColor': 'rgb(255, 255, 255)', ...         1.0  \n",
              "4  {'css_display': 'block', 'css_borderWidth': '0...         0.0  "
            ],
            "text/html": [
              "\n",
              "  <div id=\"df-63011069-e2cd-4d4e-86f8-4758e7336c10\">\n",
              "    <div class=\"colab-df-container\">\n",
              "      <div>\n",
              "<style scoped>\n",
              "    .dataframe tbody tr th:only-of-type {\n",
              "        vertical-align: middle;\n",
              "    }\n",
              "\n",
              "    .dataframe tbody tr th {\n",
              "        vertical-align: top;\n",
              "    }\n",
              "\n",
              "    .dataframe thead th {\n",
              "        text-align: right;\n",
              "    }\n",
              "</style>\n",
              "<table border=\"1\" class=\"dataframe\">\n",
              "  <thead>\n",
              "    <tr style=\"text-align: right;\">\n",
              "      <th></th>\n",
              "      <th>element</th>\n",
              "      <th>signature</th>\n",
              "      <th>prediction</th>\n",
              "    </tr>\n",
              "  </thead>\n",
              "  <tbody>\n",
              "    <tr>\n",
              "      <th>0</th>\n",
              "      <td>{'css_borderColor': 'rgba(0, 0, 0, 0)', 'css_b...</td>\n",
              "      <td>{'css_fontFamily': 'Arial, sans-serif', 'css_t...</td>\n",
              "      <td>0.0</td>\n",
              "    </tr>\n",
              "    <tr>\n",
              "      <th>1</th>\n",
              "      <td>{'css_paddingLeft': '11px', 'phantom_text_valu...</td>\n",
              "      <td>{'css_background': 'rgba(0, 0, 0, 0) none repe...</td>\n",
              "      <td>1.0</td>\n",
              "    </tr>\n",
              "    <tr>\n",
              "      <th>2</th>\n",
              "      <td>{'css_backgroundColor': 'rgb(239, 239, 239)', ...</td>\n",
              "      <td>{'css_textTransform': 'none', 'attr_aria-label...</td>\n",
              "      <td>0.0</td>\n",
              "    </tr>\n",
              "    <tr>\n",
              "      <th>3</th>\n",
              "      <td>{'id': 'GLUXZipUpdateInput', 'css_height': '31...</td>\n",
              "      <td>{'css_backgroundColor': 'rgb(255, 255, 255)', ...</td>\n",
              "      <td>1.0</td>\n",
              "    </tr>\n",
              "    <tr>\n",
              "      <th>4</th>\n",
              "      <td>{'css_height': '30px', 'css_justifyContent': '...</td>\n",
              "      <td>{'css_display': 'block', 'css_borderWidth': '0...</td>\n",
              "      <td>0.0</td>\n",
              "    </tr>\n",
              "  </tbody>\n",
              "</table>\n",
              "</div>\n",
              "      <button class=\"colab-df-convert\" onclick=\"convertToInteractive('df-63011069-e2cd-4d4e-86f8-4758e7336c10')\"\n",
              "              title=\"Convert this dataframe to an interactive table.\"\n",
              "              style=\"display:none;\">\n",
              "        \n",
              "  <svg xmlns=\"http://www.w3.org/2000/svg\" height=\"24px\"viewBox=\"0 0 24 24\"\n",
              "       width=\"24px\">\n",
              "    <path d=\"M0 0h24v24H0V0z\" fill=\"none\"/>\n",
              "    <path d=\"M18.56 5.44l.94 2.06.94-2.06 2.06-.94-2.06-.94-.94-2.06-.94 2.06-2.06.94zm-11 1L8.5 8.5l.94-2.06 2.06-.94-2.06-.94L8.5 2.5l-.94 2.06-2.06.94zm10 10l.94 2.06.94-2.06 2.06-.94-2.06-.94-.94-2.06-.94 2.06-2.06.94z\"/><path d=\"M17.41 7.96l-1.37-1.37c-.4-.4-.92-.59-1.43-.59-.52 0-1.04.2-1.43.59L10.3 9.45l-7.72 7.72c-.78.78-.78 2.05 0 2.83L4 21.41c.39.39.9.59 1.41.59.51 0 1.02-.2 1.41-.59l7.78-7.78 2.81-2.81c.8-.78.8-2.07 0-2.86zM5.41 20L4 18.59l7.72-7.72 1.47 1.35L5.41 20z\"/>\n",
              "  </svg>\n",
              "      </button>\n",
              "      \n",
              "  <style>\n",
              "    .colab-df-container {\n",
              "      display:flex;\n",
              "      flex-wrap:wrap;\n",
              "      gap: 12px;\n",
              "    }\n",
              "\n",
              "    .colab-df-convert {\n",
              "      background-color: #E8F0FE;\n",
              "      border: none;\n",
              "      border-radius: 50%;\n",
              "      cursor: pointer;\n",
              "      display: none;\n",
              "      fill: #1967D2;\n",
              "      height: 32px;\n",
              "      padding: 0 0 0 0;\n",
              "      width: 32px;\n",
              "    }\n",
              "\n",
              "    .colab-df-convert:hover {\n",
              "      background-color: #E2EBFA;\n",
              "      box-shadow: 0px 1px 2px rgba(60, 64, 67, 0.3), 0px 1px 3px 1px rgba(60, 64, 67, 0.15);\n",
              "      fill: #174EA6;\n",
              "    }\n",
              "\n",
              "    [theme=dark] .colab-df-convert {\n",
              "      background-color: #3B4455;\n",
              "      fill: #D2E3FC;\n",
              "    }\n",
              "\n",
              "    [theme=dark] .colab-df-convert:hover {\n",
              "      background-color: #434B5C;\n",
              "      box-shadow: 0px 1px 3px 1px rgba(0, 0, 0, 0.15);\n",
              "      filter: drop-shadow(0px 1px 2px rgba(0, 0, 0, 0.3));\n",
              "      fill: #FFFFFF;\n",
              "    }\n",
              "  </style>\n",
              "\n",
              "      <script>\n",
              "        const buttonEl =\n",
              "          document.querySelector('#df-63011069-e2cd-4d4e-86f8-4758e7336c10 button.colab-df-convert');\n",
              "        buttonEl.style.display =\n",
              "          google.colab.kernel.accessAllowed ? 'block' : 'none';\n",
              "\n",
              "        async function convertToInteractive(key) {\n",
              "          const element = document.querySelector('#df-63011069-e2cd-4d4e-86f8-4758e7336c10');\n",
              "          const dataTable =\n",
              "            await google.colab.kernel.invokeFunction('convertToInteractive',\n",
              "                                                     [key], {});\n",
              "          if (!dataTable) return;\n",
              "\n",
              "          const docLinkHtml = 'Like what you see? Visit the ' +\n",
              "            '<a target=\"_blank\" href=https://colab.research.google.com/notebooks/data_table.ipynb>data table notebook</a>'\n",
              "            + ' to learn more about interactive tables.';\n",
              "          element.innerHTML = '';\n",
              "          dataTable['output_type'] = 'display_data';\n",
              "          await google.colab.output.renderOutput(dataTable, element);\n",
              "          const docLink = document.createElement('div');\n",
              "          docLink.innerHTML = docLinkHtml;\n",
              "          element.appendChild(docLink);\n",
              "        }\n",
              "      </script>\n",
              "    </div>\n",
              "  </div>\n",
              "  "
            ]
          },
          "metadata": {},
          "execution_count": 18
        }
      ]
    },
    {
      "cell_type": "code",
      "metadata": {
        "id": "TCa4AI7vKRG5"
      },
      "source": [
        "features=['element', 'signature']\n",
        "target = 'prediction'"
      ],
      "execution_count": null,
      "outputs": []
    },
    {
      "cell_type": "code",
      "metadata": {
        "id": "yHrTUn-S6jKT"
      },
      "source": [
        "for column in features:\n",
        "  for i in range(df.shape[0]): \n",
        "    cont=df.iloc[i][column]\n",
        "    for key in df.iloc[i][column].keys():\n",
        "      cont[key]=word_metrics(cont[key])"
      ],
      "execution_count": null,
      "outputs": []
    },
    {
      "cell_type": "code",
      "metadata": {
        "colab": {
          "base_uri": "https://localhost:8080/"
        },
        "id": "2umPcAbpJ17o",
        "outputId": "1f07623b-07ab-459d-95e0-9a96dad3586f"
      },
      "source": [
        " df['element'].head()[0]"
      ],
      "execution_count": null,
      "outputs": [
        {
          "output_type": "execute_result",
          "data": {
            "text/plain": [
              "{'address': [0.2719428571428571, 0.04985, 0.18711830470895058],\n",
              " 'attr_aria-label': [0.02862, 0.01581, 0.06224000000000001],\n",
              " 'attr_data-action': [0.18690666666666667, 0.12256, 0.006678892253142619],\n",
              " 'class': [0.46580026026604965, 0.37195, 0.005420092646866484],\n",
              " 'css_background': [0.471462987012987, 0.21337, 0.005173580324697282],\n",
              " 'css_backgroundColor': [0.05733571428571429, 0.022, 0.004444592104796967],\n",
              " 'css_backgroundImage': [0.05485, 0.01066, 0.3046875],\n",
              " 'css_border': [0.10676238095238096, 0.04414, 0.0016031651549999692],\n",
              " 'css_borderBottom': [0.10676238095238096, 0.04414, 0.0016031651549999692],\n",
              " 'css_borderColor': [0.05733571428571429, 0.022, 0.004444592104796967],\n",
              " 'css_borderLeft': [0.10676238095238096, 0.04414, 0.0016031651549999692],\n",
              " 'css_borderRadius': [0.016566666666666667, 0.00635, 0.2037037037037037],\n",
              " 'css_borderRight': [0.10676238095238096, 0.04414, 0.0016031651549999692],\n",
              " 'css_borderTop': [0.10676238095238096, 0.04414, 0.0016031651549999692],\n",
              " 'css_borderWidth': [0.016366666666666668, 0.00633, 0.2037037037037037],\n",
              " 'css_color': [0.0447, 0.01544, 0.008271315048993776],\n",
              " 'css_content': [0.03833333333333333, 0.02243, 0.03998413923182441],\n",
              " 'css_display': [0.0312, 0.01578, 0.06224000000000001],\n",
              " 'css_font': [0.20478500000000002, 0.09044, 0.0013813690123765708],\n",
              " 'css_fontFamily': [0.16649333333333333, 0.07398, 0.004963198424535789],\n",
              " 'css_fontWeight': [0.018, 0.00292, 0.25925925925925924],\n",
              " 'css_height': [0.016466666666666668, 0.00634, 0.2037037037037037],\n",
              " 'css_justifyContent': [0.03833333333333333, 0.02243, 0.03998413923182441],\n",
              " 'css_lineHeight': [0.01626666666666667, 0.00632, 0.2037037037037037],\n",
              " 'css_maxHeight': [0.05485, 0.01066, 0.3046875],\n",
              " 'css_maxWidth': [0.05485, 0.01066, 0.3046875],\n",
              " 'css_opacity': [0.0048, 0.00048, 0.5],\n",
              " 'css_outline': [0.11581666666666668, 0.03242, 0.002500360546901625],\n",
              " 'css_overflow': [0.06474285714285714, 0.02938, 0.03988741328625219],\n",
              " 'css_padding': [0.01626666666666667, 0.00632, 0.2037037037037037],\n",
              " 'css_paddingBottom': [0.01626666666666667, 0.00632, 0.2037037037037037],\n",
              " 'css_paddingLeft': [0.01626666666666667, 0.00632, 0.2037037037037037],\n",
              " 'css_paddingRight': [0.01626666666666667, 0.00632, 0.2037037037037037],\n",
              " 'css_paddingTop': [0.01626666666666667, 0.00632, 0.2037037037037037],\n",
              " 'css_position': [0.0477875, 0.03944, 0.02040812373161316],\n",
              " 'css_textAlign': [0.0586, 0.02284, 0.062457133058984905],\n",
              " 'css_textShadow': [0.05485, 0.01066, 0.3046875],\n",
              " 'css_textTransform': [0.05485, 0.01066, 0.3046875],\n",
              " 'css_visibility': [0.06474285714285714, 0.02938, 0.03988741328625219],\n",
              " 'css_width': [0.016466666666666668, 0.00634, 0.2037037037037037],\n",
              " 'css_zIndex': [0.02705, 0.01123, 0.107421875],\n",
              " 'tag': [0.040016666666666666, 0.01687, 0.04265260631001372]}"
            ]
          },
          "metadata": {},
          "execution_count": 21
        }
      ]
    },
    {
      "cell_type": "code",
      "metadata": {
        "id": "h-eBwSSS1nZu"
      },
      "source": [
        "attributes=[]\n",
        "for col in features:\n",
        "  for i in range(df.shape[0]):\n",
        "    attributes.extend( df.iloc[:][col][i].keys())"
      ],
      "execution_count": null,
      "outputs": []
    },
    {
      "cell_type": "code",
      "metadata": {
        "id": "Z8GThsXj3DLA"
      },
      "source": [
        "attr_mean={}\n",
        "for el in set(attributes):\n",
        "   if attributes.count(el) >= 100:\n",
        "      attr_mean[el]=attributes.count(el)"
      ],
      "execution_count": null,
      "outputs": []
    },
    {
      "cell_type": "code",
      "metadata": {
        "colab": {
          "base_uri": "https://localhost:8080/"
        },
        "id": "DfTy4USYLelJ",
        "outputId": "6d0a5dac-076c-47d7-c85b-d12c8b7bfe9a"
      },
      "source": [
        "len(attr_mean.keys())"
      ],
      "execution_count": null,
      "outputs": [
        {
          "output_type": "execute_result",
          "data": {
            "text/plain": [
              "65"
            ]
          },
          "metadata": {},
          "execution_count": 24
        }
      ]
    },
    {
      "cell_type": "code",
      "metadata": {
        "id": "Hm8_TyvPYU_B"
      },
      "source": [
        "empt_arr={}\n",
        "\n",
        "for key in list(attr_mean.keys()):\n",
        "  empt_arr[key]=[0.0,0.0,0.0]\n",
        " "
      ],
      "execution_count": null,
      "outputs": []
    },
    {
      "cell_type": "code",
      "metadata": {
        "colab": {
          "base_uri": "https://localhost:8080/"
        },
        "id": "N8WtF7wIXcZj",
        "outputId": "7cd48955-cf39-4c61-fe33-d4760793ede8"
      },
      "source": [
        "empt_arr"
      ],
      "execution_count": null,
      "outputs": [
        {
          "output_type": "execute_result",
          "data": {
            "text/plain": [
              "{'address': [0.0, 0.0, 0.0],\n",
              " 'attr_alt': [0.0, 0.0, 0.0],\n",
              " 'attr_aria-hidden': [0.0, 0.0, 0.0],\n",
              " 'attr_aria-label': [0.0, 0.0, 0.0],\n",
              " 'attr_autocomplete': [0.0, 0.0, 0.0],\n",
              " 'attr_data-moov-link': [0.0, 0.0, 0.0],\n",
              " 'attr_data-rel': [0.0, 0.0, 0.0],\n",
              " 'attr_data-rsf-prefetch': [0.0, 0.0, 0.0],\n",
              " 'attr_data-th': [0.0, 0.0, 0.0],\n",
              " 'attr_data-tkid': [0.0, 0.0, 0.0],\n",
              " 'attr_data-value': [0.0, 0.0, 0.0],\n",
              " 'attr_dir': [0.0, 0.0, 0.0],\n",
              " 'attr_href': [0.0, 0.0, 0.0],\n",
              " 'attr_maxlength': [0.0, 0.0, 0.0],\n",
              " 'attr_name': [0.0, 0.0, 0.0],\n",
              " 'attr_placeholder': [0.0, 0.0, 0.0],\n",
              " 'attr_role': [0.0, 0.0, 0.0],\n",
              " 'attr_src': [0.0, 0.0, 0.0],\n",
              " 'attr_style': [0.0, 0.0, 0.0],\n",
              " 'attr_tabindex': [0.0, 0.0, 0.0],\n",
              " 'attr_title': [0.0, 0.0, 0.0],\n",
              " 'attr_type': [0.0, 0.0, 0.0],\n",
              " 'attr_value': [0.0, 0.0, 0.0],\n",
              " 'class': [0.0, 0.0, 0.0],\n",
              " 'css_background': [0.0, 0.0, 0.0],\n",
              " 'css_backgroundColor': [0.0, 0.0, 0.0],\n",
              " 'css_backgroundImage': [0.0, 0.0, 0.0],\n",
              " 'css_border': [0.0, 0.0, 0.0],\n",
              " 'css_borderBottom': [0.0, 0.0, 0.0],\n",
              " 'css_borderColor': [0.0, 0.0, 0.0],\n",
              " 'css_borderLeft': [0.0, 0.0, 0.0],\n",
              " 'css_borderRadius': [0.0, 0.0, 0.0],\n",
              " 'css_borderRight': [0.0, 0.0, 0.0],\n",
              " 'css_borderTop': [0.0, 0.0, 0.0],\n",
              " 'css_borderWidth': [0.0, 0.0, 0.0],\n",
              " 'css_color': [0.0, 0.0, 0.0],\n",
              " 'css_content': [0.0, 0.0, 0.0],\n",
              " 'css_display': [0.0, 0.0, 0.0],\n",
              " 'css_font': [0.0, 0.0, 0.0],\n",
              " 'css_fontFamily': [0.0, 0.0, 0.0],\n",
              " 'css_fontWeight': [0.0, 0.0, 0.0],\n",
              " 'css_height': [0.0, 0.0, 0.0],\n",
              " 'css_justifyContent': [0.0, 0.0, 0.0],\n",
              " 'css_lineHeight': [0.0, 0.0, 0.0],\n",
              " 'css_maxHeight': [0.0, 0.0, 0.0],\n",
              " 'css_maxWidth': [0.0, 0.0, 0.0],\n",
              " 'css_opacity': [0.0, 0.0, 0.0],\n",
              " 'css_outline': [0.0, 0.0, 0.0],\n",
              " 'css_overflow': [0.0, 0.0, 0.0],\n",
              " 'css_padding': [0.0, 0.0, 0.0],\n",
              " 'css_paddingBottom': [0.0, 0.0, 0.0],\n",
              " 'css_paddingLeft': [0.0, 0.0, 0.0],\n",
              " 'css_paddingRight': [0.0, 0.0, 0.0],\n",
              " 'css_paddingTop': [0.0, 0.0, 0.0],\n",
              " 'css_position': [0.0, 0.0, 0.0],\n",
              " 'css_textAlign': [0.0, 0.0, 0.0],\n",
              " 'css_textShadow': [0.0, 0.0, 0.0],\n",
              " 'css_textTransform': [0.0, 0.0, 0.0],\n",
              " 'css_visibility': [0.0, 0.0, 0.0],\n",
              " 'css_width': [0.0, 0.0, 0.0],\n",
              " 'css_zIndex': [0.0, 0.0, 0.0],\n",
              " 'id': [0.0, 0.0, 0.0],\n",
              " 'phantom_text_value': [0.0, 0.0, 0.0],\n",
              " 'tag': [0.0, 0.0, 0.0],\n",
              " 'text_value': [0.0, 0.0, 0.0]}"
            ]
          },
          "metadata": {},
          "execution_count": 26
        }
      ]
    },
    {
      "cell_type": "code",
      "metadata": {
        "colab": {
          "base_uri": "https://localhost:8080/",
          "height": 206
        },
        "id": "3Q_6DGwfb5tA",
        "outputId": "150f9ee7-42d6-4435-ec08-262966a7aabb"
      },
      "source": [
        "df.head()"
      ],
      "execution_count": null,
      "outputs": [
        {
          "output_type": "execute_result",
          "data": {
            "text/plain": [
              "                                             element  \\\n",
              "0  {'css_borderColor': [0.05733571428571429, 0.02...   \n",
              "1  {'css_paddingLeft': [0.0282, 0.00963, 0.179687...   \n",
              "2  {'css_backgroundColor': [0.062125, 0.03067, 0....   \n",
              "3  {'id': [0.1701111111111111, 0.17695, 0.0035112...   \n",
              "4  {'css_height': [0.0173, 0.00963, 0.107421875],...   \n",
              "\n",
              "                                           signature  prediction  \n",
              "0  {'css_fontFamily': [0.16649333333333333, 0.073...         0.0  \n",
              "1  {'css_background': [0.471462987012987, 0.21337...         1.0  \n",
              "2  {'css_textTransform': [0.05485, 0.01066, 0.304...         0.0  \n",
              "3  {'css_backgroundColor': [0.0851875, 0.03035, 0...         1.0  \n",
              "4  {'css_display': [0.0312, 0.01578, 0.0622400000...         0.0  "
            ],
            "text/html": [
              "\n",
              "  <div id=\"df-c7d12f24-77c6-45b8-a851-418f6197e74b\">\n",
              "    <div class=\"colab-df-container\">\n",
              "      <div>\n",
              "<style scoped>\n",
              "    .dataframe tbody tr th:only-of-type {\n",
              "        vertical-align: middle;\n",
              "    }\n",
              "\n",
              "    .dataframe tbody tr th {\n",
              "        vertical-align: top;\n",
              "    }\n",
              "\n",
              "    .dataframe thead th {\n",
              "        text-align: right;\n",
              "    }\n",
              "</style>\n",
              "<table border=\"1\" class=\"dataframe\">\n",
              "  <thead>\n",
              "    <tr style=\"text-align: right;\">\n",
              "      <th></th>\n",
              "      <th>element</th>\n",
              "      <th>signature</th>\n",
              "      <th>prediction</th>\n",
              "    </tr>\n",
              "  </thead>\n",
              "  <tbody>\n",
              "    <tr>\n",
              "      <th>0</th>\n",
              "      <td>{'css_borderColor': [0.05733571428571429, 0.02...</td>\n",
              "      <td>{'css_fontFamily': [0.16649333333333333, 0.073...</td>\n",
              "      <td>0.0</td>\n",
              "    </tr>\n",
              "    <tr>\n",
              "      <th>1</th>\n",
              "      <td>{'css_paddingLeft': [0.0282, 0.00963, 0.179687...</td>\n",
              "      <td>{'css_background': [0.471462987012987, 0.21337...</td>\n",
              "      <td>1.0</td>\n",
              "    </tr>\n",
              "    <tr>\n",
              "      <th>2</th>\n",
              "      <td>{'css_backgroundColor': [0.062125, 0.03067, 0....</td>\n",
              "      <td>{'css_textTransform': [0.05485, 0.01066, 0.304...</td>\n",
              "      <td>0.0</td>\n",
              "    </tr>\n",
              "    <tr>\n",
              "      <th>3</th>\n",
              "      <td>{'id': [0.1701111111111111, 0.17695, 0.0035112...</td>\n",
              "      <td>{'css_backgroundColor': [0.0851875, 0.03035, 0...</td>\n",
              "      <td>1.0</td>\n",
              "    </tr>\n",
              "    <tr>\n",
              "      <th>4</th>\n",
              "      <td>{'css_height': [0.0173, 0.00963, 0.107421875],...</td>\n",
              "      <td>{'css_display': [0.0312, 0.01578, 0.0622400000...</td>\n",
              "      <td>0.0</td>\n",
              "    </tr>\n",
              "  </tbody>\n",
              "</table>\n",
              "</div>\n",
              "      <button class=\"colab-df-convert\" onclick=\"convertToInteractive('df-c7d12f24-77c6-45b8-a851-418f6197e74b')\"\n",
              "              title=\"Convert this dataframe to an interactive table.\"\n",
              "              style=\"display:none;\">\n",
              "        \n",
              "  <svg xmlns=\"http://www.w3.org/2000/svg\" height=\"24px\"viewBox=\"0 0 24 24\"\n",
              "       width=\"24px\">\n",
              "    <path d=\"M0 0h24v24H0V0z\" fill=\"none\"/>\n",
              "    <path d=\"M18.56 5.44l.94 2.06.94-2.06 2.06-.94-2.06-.94-.94-2.06-.94 2.06-2.06.94zm-11 1L8.5 8.5l.94-2.06 2.06-.94-2.06-.94L8.5 2.5l-.94 2.06-2.06.94zm10 10l.94 2.06.94-2.06 2.06-.94-2.06-.94-.94-2.06-.94 2.06-2.06.94z\"/><path d=\"M17.41 7.96l-1.37-1.37c-.4-.4-.92-.59-1.43-.59-.52 0-1.04.2-1.43.59L10.3 9.45l-7.72 7.72c-.78.78-.78 2.05 0 2.83L4 21.41c.39.39.9.59 1.41.59.51 0 1.02-.2 1.41-.59l7.78-7.78 2.81-2.81c.8-.78.8-2.07 0-2.86zM5.41 20L4 18.59l7.72-7.72 1.47 1.35L5.41 20z\"/>\n",
              "  </svg>\n",
              "      </button>\n",
              "      \n",
              "  <style>\n",
              "    .colab-df-container {\n",
              "      display:flex;\n",
              "      flex-wrap:wrap;\n",
              "      gap: 12px;\n",
              "    }\n",
              "\n",
              "    .colab-df-convert {\n",
              "      background-color: #E8F0FE;\n",
              "      border: none;\n",
              "      border-radius: 50%;\n",
              "      cursor: pointer;\n",
              "      display: none;\n",
              "      fill: #1967D2;\n",
              "      height: 32px;\n",
              "      padding: 0 0 0 0;\n",
              "      width: 32px;\n",
              "    }\n",
              "\n",
              "    .colab-df-convert:hover {\n",
              "      background-color: #E2EBFA;\n",
              "      box-shadow: 0px 1px 2px rgba(60, 64, 67, 0.3), 0px 1px 3px 1px rgba(60, 64, 67, 0.15);\n",
              "      fill: #174EA6;\n",
              "    }\n",
              "\n",
              "    [theme=dark] .colab-df-convert {\n",
              "      background-color: #3B4455;\n",
              "      fill: #D2E3FC;\n",
              "    }\n",
              "\n",
              "    [theme=dark] .colab-df-convert:hover {\n",
              "      background-color: #434B5C;\n",
              "      box-shadow: 0px 1px 3px 1px rgba(0, 0, 0, 0.15);\n",
              "      filter: drop-shadow(0px 1px 2px rgba(0, 0, 0, 0.3));\n",
              "      fill: #FFFFFF;\n",
              "    }\n",
              "  </style>\n",
              "\n",
              "      <script>\n",
              "        const buttonEl =\n",
              "          document.querySelector('#df-c7d12f24-77c6-45b8-a851-418f6197e74b button.colab-df-convert');\n",
              "        buttonEl.style.display =\n",
              "          google.colab.kernel.accessAllowed ? 'block' : 'none';\n",
              "\n",
              "        async function convertToInteractive(key) {\n",
              "          const element = document.querySelector('#df-c7d12f24-77c6-45b8-a851-418f6197e74b');\n",
              "          const dataTable =\n",
              "            await google.colab.kernel.invokeFunction('convertToInteractive',\n",
              "                                                     [key], {});\n",
              "          if (!dataTable) return;\n",
              "\n",
              "          const docLinkHtml = 'Like what you see? Visit the ' +\n",
              "            '<a target=\"_blank\" href=https://colab.research.google.com/notebooks/data_table.ipynb>data table notebook</a>'\n",
              "            + ' to learn more about interactive tables.';\n",
              "          element.innerHTML = '';\n",
              "          dataTable['output_type'] = 'display_data';\n",
              "          await google.colab.output.renderOutput(dataTable, element);\n",
              "          const docLink = document.createElement('div');\n",
              "          docLink.innerHTML = docLinkHtml;\n",
              "          element.appendChild(docLink);\n",
              "        }\n",
              "      </script>\n",
              "    </div>\n",
              "  </div>\n",
              "  "
            ]
          },
          "metadata": {},
          "execution_count": 27
        }
      ]
    },
    {
      "cell_type": "code",
      "metadata": {
        "colab": {
          "base_uri": "https://localhost:8080/",
          "height": 423
        },
        "id": "9s3OWeO7BTEz",
        "outputId": "7b1b5b5b-4d1f-467d-c457-d55946066e30"
      },
      "source": [
        "df_edir=df.copy()\n",
        "df_edir"
      ],
      "execution_count": null,
      "outputs": [
        {
          "output_type": "execute_result",
          "data": {
            "text/plain": [
              "                                                 element  \\\n",
              "0      {'css_borderColor': [0.05733571428571429, 0.02...   \n",
              "1      {'css_paddingLeft': [0.0282, 0.00963, 0.179687...   \n",
              "2      {'css_backgroundColor': [0.062125, 0.03067, 0....   \n",
              "3      {'id': [0.1701111111111111, 0.17695, 0.0035112...   \n",
              "4      {'css_height': [0.0173, 0.00963, 0.107421875],...   \n",
              "...                                                  ...   \n",
              "16545  {'css_justifyContent': [0.0586, 0.02284, 0.062...   \n",
              "16546  {'css_content': [0.03833333333333333, 0.02243,...   \n",
              "16547  {'css_zIndex': [0.02705, 0.01123, 0.107421875]...   \n",
              "16548  {'css_maxHeight': [0.05485, 0.01066, 0.3046875...   \n",
              "16549  {'css_borderLeft': [0.12316416666666667, 0.052...   \n",
              "\n",
              "                                               signature  prediction  \n",
              "0      {'css_fontFamily': [0.16649333333333333, 0.073...         0.0  \n",
              "1      {'css_background': [0.471462987012987, 0.21337...         1.0  \n",
              "2      {'css_textTransform': [0.05485, 0.01066, 0.304...         0.0  \n",
              "3      {'css_backgroundColor': [0.0851875, 0.03035, 0...         1.0  \n",
              "4      {'css_display': [0.0312, 0.01578, 0.0622400000...         0.0  \n",
              "...                                                  ...         ...  \n",
              "16545  {'css_borderRight': [0.11581666666666669, 0.03...         1.0  \n",
              "16546  {'css_position': [0.06178333333333333, 0.02221...         0.0  \n",
              "16547  {'css_textShadow': [0.05485, 0.01066, 0.304687...         1.0  \n",
              "16548  {'css_textAlign': [0.026375, 0.0108, 0.1074218...         0.0  \n",
              "16549  {'css_justifyContent': [0.03833333333333333, 0...         1.0  \n",
              "\n",
              "[16550 rows x 3 columns]"
            ],
            "text/html": [
              "\n",
              "  <div id=\"df-96536e63-16b3-4317-a3cf-14fbe50df5a8\">\n",
              "    <div class=\"colab-df-container\">\n",
              "      <div>\n",
              "<style scoped>\n",
              "    .dataframe tbody tr th:only-of-type {\n",
              "        vertical-align: middle;\n",
              "    }\n",
              "\n",
              "    .dataframe tbody tr th {\n",
              "        vertical-align: top;\n",
              "    }\n",
              "\n",
              "    .dataframe thead th {\n",
              "        text-align: right;\n",
              "    }\n",
              "</style>\n",
              "<table border=\"1\" class=\"dataframe\">\n",
              "  <thead>\n",
              "    <tr style=\"text-align: right;\">\n",
              "      <th></th>\n",
              "      <th>element</th>\n",
              "      <th>signature</th>\n",
              "      <th>prediction</th>\n",
              "    </tr>\n",
              "  </thead>\n",
              "  <tbody>\n",
              "    <tr>\n",
              "      <th>0</th>\n",
              "      <td>{'css_borderColor': [0.05733571428571429, 0.02...</td>\n",
              "      <td>{'css_fontFamily': [0.16649333333333333, 0.073...</td>\n",
              "      <td>0.0</td>\n",
              "    </tr>\n",
              "    <tr>\n",
              "      <th>1</th>\n",
              "      <td>{'css_paddingLeft': [0.0282, 0.00963, 0.179687...</td>\n",
              "      <td>{'css_background': [0.471462987012987, 0.21337...</td>\n",
              "      <td>1.0</td>\n",
              "    </tr>\n",
              "    <tr>\n",
              "      <th>2</th>\n",
              "      <td>{'css_backgroundColor': [0.062125, 0.03067, 0....</td>\n",
              "      <td>{'css_textTransform': [0.05485, 0.01066, 0.304...</td>\n",
              "      <td>0.0</td>\n",
              "    </tr>\n",
              "    <tr>\n",
              "      <th>3</th>\n",
              "      <td>{'id': [0.1701111111111111, 0.17695, 0.0035112...</td>\n",
              "      <td>{'css_backgroundColor': [0.0851875, 0.03035, 0...</td>\n",
              "      <td>1.0</td>\n",
              "    </tr>\n",
              "    <tr>\n",
              "      <th>4</th>\n",
              "      <td>{'css_height': [0.0173, 0.00963, 0.107421875],...</td>\n",
              "      <td>{'css_display': [0.0312, 0.01578, 0.0622400000...</td>\n",
              "      <td>0.0</td>\n",
              "    </tr>\n",
              "    <tr>\n",
              "      <th>...</th>\n",
              "      <td>...</td>\n",
              "      <td>...</td>\n",
              "      <td>...</td>\n",
              "    </tr>\n",
              "    <tr>\n",
              "      <th>16545</th>\n",
              "      <td>{'css_justifyContent': [0.0586, 0.02284, 0.062...</td>\n",
              "      <td>{'css_borderRight': [0.11581666666666669, 0.03...</td>\n",
              "      <td>1.0</td>\n",
              "    </tr>\n",
              "    <tr>\n",
              "      <th>16546</th>\n",
              "      <td>{'css_content': [0.03833333333333333, 0.02243,...</td>\n",
              "      <td>{'css_position': [0.06178333333333333, 0.02221...</td>\n",
              "      <td>0.0</td>\n",
              "    </tr>\n",
              "    <tr>\n",
              "      <th>16547</th>\n",
              "      <td>{'css_zIndex': [0.02705, 0.01123, 0.107421875]...</td>\n",
              "      <td>{'css_textShadow': [0.05485, 0.01066, 0.304687...</td>\n",
              "      <td>1.0</td>\n",
              "    </tr>\n",
              "    <tr>\n",
              "      <th>16548</th>\n",
              "      <td>{'css_maxHeight': [0.05485, 0.01066, 0.3046875...</td>\n",
              "      <td>{'css_textAlign': [0.026375, 0.0108, 0.1074218...</td>\n",
              "      <td>0.0</td>\n",
              "    </tr>\n",
              "    <tr>\n",
              "      <th>16549</th>\n",
              "      <td>{'css_borderLeft': [0.12316416666666667, 0.052...</td>\n",
              "      <td>{'css_justifyContent': [0.03833333333333333, 0...</td>\n",
              "      <td>1.0</td>\n",
              "    </tr>\n",
              "  </tbody>\n",
              "</table>\n",
              "<p>16550 rows × 3 columns</p>\n",
              "</div>\n",
              "      <button class=\"colab-df-convert\" onclick=\"convertToInteractive('df-96536e63-16b3-4317-a3cf-14fbe50df5a8')\"\n",
              "              title=\"Convert this dataframe to an interactive table.\"\n",
              "              style=\"display:none;\">\n",
              "        \n",
              "  <svg xmlns=\"http://www.w3.org/2000/svg\" height=\"24px\"viewBox=\"0 0 24 24\"\n",
              "       width=\"24px\">\n",
              "    <path d=\"M0 0h24v24H0V0z\" fill=\"none\"/>\n",
              "    <path d=\"M18.56 5.44l.94 2.06.94-2.06 2.06-.94-2.06-.94-.94-2.06-.94 2.06-2.06.94zm-11 1L8.5 8.5l.94-2.06 2.06-.94-2.06-.94L8.5 2.5l-.94 2.06-2.06.94zm10 10l.94 2.06.94-2.06 2.06-.94-2.06-.94-.94-2.06-.94 2.06-2.06.94z\"/><path d=\"M17.41 7.96l-1.37-1.37c-.4-.4-.92-.59-1.43-.59-.52 0-1.04.2-1.43.59L10.3 9.45l-7.72 7.72c-.78.78-.78 2.05 0 2.83L4 21.41c.39.39.9.59 1.41.59.51 0 1.02-.2 1.41-.59l7.78-7.78 2.81-2.81c.8-.78.8-2.07 0-2.86zM5.41 20L4 18.59l7.72-7.72 1.47 1.35L5.41 20z\"/>\n",
              "  </svg>\n",
              "      </button>\n",
              "      \n",
              "  <style>\n",
              "    .colab-df-container {\n",
              "      display:flex;\n",
              "      flex-wrap:wrap;\n",
              "      gap: 12px;\n",
              "    }\n",
              "\n",
              "    .colab-df-convert {\n",
              "      background-color: #E8F0FE;\n",
              "      border: none;\n",
              "      border-radius: 50%;\n",
              "      cursor: pointer;\n",
              "      display: none;\n",
              "      fill: #1967D2;\n",
              "      height: 32px;\n",
              "      padding: 0 0 0 0;\n",
              "      width: 32px;\n",
              "    }\n",
              "\n",
              "    .colab-df-convert:hover {\n",
              "      background-color: #E2EBFA;\n",
              "      box-shadow: 0px 1px 2px rgba(60, 64, 67, 0.3), 0px 1px 3px 1px rgba(60, 64, 67, 0.15);\n",
              "      fill: #174EA6;\n",
              "    }\n",
              "\n",
              "    [theme=dark] .colab-df-convert {\n",
              "      background-color: #3B4455;\n",
              "      fill: #D2E3FC;\n",
              "    }\n",
              "\n",
              "    [theme=dark] .colab-df-convert:hover {\n",
              "      background-color: #434B5C;\n",
              "      box-shadow: 0px 1px 3px 1px rgba(0, 0, 0, 0.15);\n",
              "      filter: drop-shadow(0px 1px 2px rgba(0, 0, 0, 0.3));\n",
              "      fill: #FFFFFF;\n",
              "    }\n",
              "  </style>\n",
              "\n",
              "      <script>\n",
              "        const buttonEl =\n",
              "          document.querySelector('#df-96536e63-16b3-4317-a3cf-14fbe50df5a8 button.colab-df-convert');\n",
              "        buttonEl.style.display =\n",
              "          google.colab.kernel.accessAllowed ? 'block' : 'none';\n",
              "\n",
              "        async function convertToInteractive(key) {\n",
              "          const element = document.querySelector('#df-96536e63-16b3-4317-a3cf-14fbe50df5a8');\n",
              "          const dataTable =\n",
              "            await google.colab.kernel.invokeFunction('convertToInteractive',\n",
              "                                                     [key], {});\n",
              "          if (!dataTable) return;\n",
              "\n",
              "          const docLinkHtml = 'Like what you see? Visit the ' +\n",
              "            '<a target=\"_blank\" href=https://colab.research.google.com/notebooks/data_table.ipynb>data table notebook</a>'\n",
              "            + ' to learn more about interactive tables.';\n",
              "          element.innerHTML = '';\n",
              "          dataTable['output_type'] = 'display_data';\n",
              "          await google.colab.output.renderOutput(dataTable, element);\n",
              "          const docLink = document.createElement('div');\n",
              "          docLink.innerHTML = docLinkHtml;\n",
              "          element.appendChild(docLink);\n",
              "        }\n",
              "      </script>\n",
              "    </div>\n",
              "  </div>\n",
              "  "
            ]
          },
          "metadata": {},
          "execution_count": 28
        }
      ]
    },
    {
      "cell_type": "code",
      "metadata": {
        "colab": {
          "base_uri": "https://localhost:8080/"
        },
        "id": "eLcNu9OJQDX3",
        "outputId": "b9e132a9-5c6b-4e72-f7a2-a40f3f8cf975"
      },
      "source": [
        "df_edir=df.copy()\n",
        "for column in features:\n",
        "  for i in range(df.shape[0]): \n",
        "        cont=df_edir.iloc[i][column].copy()\n",
        "        for key in df_edir.iloc[i][column].keys():\n",
        "         \n",
        "         if key not in list(attr_mean.keys()):\n",
        "            del cont[key]\n",
        "         \n",
        "         empt_arr2=empt_arr.copy()\n",
        "         empt_arr2.update(cont)\n",
        "         df_edir[column][i]=empt_arr2\n",
        "     "
      ],
      "execution_count": null,
      "outputs": [
        {
          "output_type": "stream",
          "name": "stderr",
          "text": [
            "/usr/local/lib/python3.7/dist-packages/ipykernel_launcher.py:12: SettingWithCopyWarning: \n",
            "A value is trying to be set on a copy of a slice from a DataFrame\n",
            "\n",
            "See the caveats in the documentation: https://pandas.pydata.org/pandas-docs/stable/user_guide/indexing.html#returning-a-view-versus-a-copy\n",
            "  if sys.path[0] == '':\n"
          ]
        }
      ]
    },
    {
      "cell_type": "code",
      "metadata": {
        "id": "BlFyMxiTYV74"
      },
      "source": [
        "df_add=pd.DataFrame(dic)"
      ],
      "execution_count": null,
      "outputs": []
    },
    {
      "cell_type": "code",
      "metadata": {
        "id": "Az_EuRgjaiZm"
      },
      "source": [
        "k=0\n",
        "for i in range(df_edir.shape[0]) :\n",
        "  df_add.loc[k]=[df_edir.loc[i]['element'],df_edir.loc[i]['element'],1]\n",
        "  k=k+1\n"
      ],
      "execution_count": null,
      "outputs": []
    },
    {
      "cell_type": "code",
      "metadata": {
        "colab": {
          "base_uri": "https://localhost:8080/",
          "height": 419
        },
        "id": "vU9uFb0jZ9Hw",
        "outputId": "c17b6893-5dd0-4d6b-cf7b-ddb6f492d1be"
      },
      "source": [
        "df_add"
      ],
      "execution_count": null,
      "outputs": [
        {
          "output_type": "execute_result",
          "data": {
            "text/html": [
              "<div>\n",
              "<style scoped>\n",
              "    .dataframe tbody tr th:only-of-type {\n",
              "        vertical-align: middle;\n",
              "    }\n",
              "\n",
              "    .dataframe tbody tr th {\n",
              "        vertical-align: top;\n",
              "    }\n",
              "\n",
              "    .dataframe thead th {\n",
              "        text-align: right;\n",
              "    }\n",
              "</style>\n",
              "<table border=\"1\" class=\"dataframe\">\n",
              "  <thead>\n",
              "    <tr style=\"text-align: right;\">\n",
              "      <th></th>\n",
              "      <th>element</th>\n",
              "      <th>signature</th>\n",
              "      <th>prediction</th>\n",
              "    </tr>\n",
              "  </thead>\n",
              "  <tbody>\n",
              "    <tr>\n",
              "      <th>0</th>\n",
              "      <td>{'attr_title': [0.0, 0.0, 0.0], 'css_borderTop...</td>\n",
              "      <td>{'attr_title': [0.0, 0.0, 0.0], 'css_borderTop...</td>\n",
              "      <td>1.0</td>\n",
              "    </tr>\n",
              "    <tr>\n",
              "      <th>1</th>\n",
              "      <td>{'attr_title': [0.0, 0.0, 0.0], 'css_borderTop...</td>\n",
              "      <td>{'attr_title': [0.0, 0.0, 0.0], 'css_borderTop...</td>\n",
              "      <td>1.0</td>\n",
              "    </tr>\n",
              "    <tr>\n",
              "      <th>2</th>\n",
              "      <td>{'attr_title': [0.0, 0.0, 0.0], 'css_borderTop...</td>\n",
              "      <td>{'attr_title': [0.0, 0.0, 0.0], 'css_borderTop...</td>\n",
              "      <td>1.0</td>\n",
              "    </tr>\n",
              "    <tr>\n",
              "      <th>3</th>\n",
              "      <td>{'attr_title': [0.0, 0.0, 0.0], 'css_borderTop...</td>\n",
              "      <td>{'attr_title': [0.0, 0.0, 0.0], 'css_borderTop...</td>\n",
              "      <td>1.0</td>\n",
              "    </tr>\n",
              "    <tr>\n",
              "      <th>4</th>\n",
              "      <td>{'attr_title': [0.0, 0.0, 0.0], 'css_borderTop...</td>\n",
              "      <td>{'attr_title': [0.0, 0.0, 0.0], 'css_borderTop...</td>\n",
              "      <td>1.0</td>\n",
              "    </tr>\n",
              "    <tr>\n",
              "      <th>...</th>\n",
              "      <td>...</td>\n",
              "      <td>...</td>\n",
              "      <td>...</td>\n",
              "    </tr>\n",
              "    <tr>\n",
              "      <th>16545</th>\n",
              "      <td>{'attr_title': [0.0, 0.0, 0.0], 'css_borderTop...</td>\n",
              "      <td>{'attr_title': [0.0, 0.0, 0.0], 'css_borderTop...</td>\n",
              "      <td>1.0</td>\n",
              "    </tr>\n",
              "    <tr>\n",
              "      <th>16546</th>\n",
              "      <td>{'attr_title': [0.15174871794871794, 0.22167, ...</td>\n",
              "      <td>{'attr_title': [0.15174871794871794, 0.22167, ...</td>\n",
              "      <td>1.0</td>\n",
              "    </tr>\n",
              "    <tr>\n",
              "      <th>16547</th>\n",
              "      <td>{'attr_title': [0.0, 0.0, 0.0], 'css_borderTop...</td>\n",
              "      <td>{'attr_title': [0.0, 0.0, 0.0], 'css_borderTop...</td>\n",
              "      <td>1.0</td>\n",
              "    </tr>\n",
              "    <tr>\n",
              "      <th>16548</th>\n",
              "      <td>{'attr_title': [0.0, 0.0, 0.0], 'css_borderTop...</td>\n",
              "      <td>{'attr_title': [0.0, 0.0, 0.0], 'css_borderTop...</td>\n",
              "      <td>1.0</td>\n",
              "    </tr>\n",
              "    <tr>\n",
              "      <th>16549</th>\n",
              "      <td>{'attr_title': [0.0, 0.0, 0.0], 'css_borderTop...</td>\n",
              "      <td>{'attr_title': [0.0, 0.0, 0.0], 'css_borderTop...</td>\n",
              "      <td>1.0</td>\n",
              "    </tr>\n",
              "  </tbody>\n",
              "</table>\n",
              "<p>16550 rows × 3 columns</p>\n",
              "</div>"
            ],
            "text/plain": [
              "                                                 element  ... prediction\n",
              "0      {'attr_title': [0.0, 0.0, 0.0], 'css_borderTop...  ...        1.0\n",
              "1      {'attr_title': [0.0, 0.0, 0.0], 'css_borderTop...  ...        1.0\n",
              "2      {'attr_title': [0.0, 0.0, 0.0], 'css_borderTop...  ...        1.0\n",
              "3      {'attr_title': [0.0, 0.0, 0.0], 'css_borderTop...  ...        1.0\n",
              "4      {'attr_title': [0.0, 0.0, 0.0], 'css_borderTop...  ...        1.0\n",
              "...                                                  ...  ...        ...\n",
              "16545  {'attr_title': [0.0, 0.0, 0.0], 'css_borderTop...  ...        1.0\n",
              "16546  {'attr_title': [0.15174871794871794, 0.22167, ...  ...        1.0\n",
              "16547  {'attr_title': [0.0, 0.0, 0.0], 'css_borderTop...  ...        1.0\n",
              "16548  {'attr_title': [0.0, 0.0, 0.0], 'css_borderTop...  ...        1.0\n",
              "16549  {'attr_title': [0.0, 0.0, 0.0], 'css_borderTop...  ...        1.0\n",
              "\n",
              "[16550 rows x 3 columns]"
            ]
          },
          "metadata": {
            "tags": []
          },
          "execution_count": 27
        }
      ]
    },
    {
      "cell_type": "code",
      "metadata": {
        "id": "QH93zcSdZgpg"
      },
      "source": [
        "df_add=df_add.append(df_edir,ignore_index=True)"
      ],
      "execution_count": null,
      "outputs": []
    },
    {
      "cell_type": "code",
      "metadata": {
        "colab": {
          "base_uri": "https://localhost:8080/",
          "height": 423
        },
        "id": "oaZ-Q1iqgu55",
        "outputId": "ab865aea-cfc1-4d2d-fe72-83b9f074df61"
      },
      "source": [
        "df_add"
      ],
      "execution_count": null,
      "outputs": [
        {
          "output_type": "execute_result",
          "data": {
            "text/plain": [
              "                                                 element  \\\n",
              "0      {'css_textTransform': [0.05485, 0.01066, 0.304...   \n",
              "1      {'css_textTransform': [0.05485, 0.01066, 0.304...   \n",
              "2      {'css_textTransform': [0.05485, 0.01066, 0.304...   \n",
              "3      {'css_textTransform': [0.05485, 0.01066, 0.304...   \n",
              "4      {'css_textTransform': [0.05485, 0.01066, 0.304...   \n",
              "...                                                  ...   \n",
              "33095  {'css_textTransform': [0.05485, 0.01066, 0.304...   \n",
              "33096  {'css_textTransform': [0.05485, 0.01066, 0.304...   \n",
              "33097  {'css_textTransform': [0.05485, 0.01066, 0.304...   \n",
              "33098  {'css_textTransform': [0.05485, 0.01066, 0.304...   \n",
              "33099  {'css_textTransform': [0.05485, 0.01066, 0.304...   \n",
              "\n",
              "                                               signature  prediction  \n",
              "0      {'css_textTransform': [0.05485, 0.01066, 0.304...         1.0  \n",
              "1      {'css_textTransform': [0.05485, 0.01066, 0.304...         1.0  \n",
              "2      {'css_textTransform': [0.05485, 0.01066, 0.304...         1.0  \n",
              "3      {'css_textTransform': [0.05485, 0.01066, 0.304...         1.0  \n",
              "4      {'css_textTransform': [0.05485, 0.01066, 0.304...         1.0  \n",
              "...                                                  ...         ...  \n",
              "33095  {'css_textTransform': [0.05485, 0.01066, 0.304...         1.0  \n",
              "33096  {'css_textTransform': [0.05485, 0.01066, 0.304...         0.0  \n",
              "33097  {'css_textTransform': [0.05485, 0.01066, 0.304...         1.0  \n",
              "33098  {'css_textTransform': [0.05485, 0.01066, 0.304...         0.0  \n",
              "33099  {'css_textTransform': [0.05485, 0.01066, 0.304...         1.0  \n",
              "\n",
              "[33100 rows x 3 columns]"
            ],
            "text/html": [
              "\n",
              "  <div id=\"df-1efdadfd-44ac-4c2e-8a92-ba9215df6de8\">\n",
              "    <div class=\"colab-df-container\">\n",
              "      <div>\n",
              "<style scoped>\n",
              "    .dataframe tbody tr th:only-of-type {\n",
              "        vertical-align: middle;\n",
              "    }\n",
              "\n",
              "    .dataframe tbody tr th {\n",
              "        vertical-align: top;\n",
              "    }\n",
              "\n",
              "    .dataframe thead th {\n",
              "        text-align: right;\n",
              "    }\n",
              "</style>\n",
              "<table border=\"1\" class=\"dataframe\">\n",
              "  <thead>\n",
              "    <tr style=\"text-align: right;\">\n",
              "      <th></th>\n",
              "      <th>element</th>\n",
              "      <th>signature</th>\n",
              "      <th>prediction</th>\n",
              "    </tr>\n",
              "  </thead>\n",
              "  <tbody>\n",
              "    <tr>\n",
              "      <th>0</th>\n",
              "      <td>{'css_textTransform': [0.05485, 0.01066, 0.304...</td>\n",
              "      <td>{'css_textTransform': [0.05485, 0.01066, 0.304...</td>\n",
              "      <td>1.0</td>\n",
              "    </tr>\n",
              "    <tr>\n",
              "      <th>1</th>\n",
              "      <td>{'css_textTransform': [0.05485, 0.01066, 0.304...</td>\n",
              "      <td>{'css_textTransform': [0.05485, 0.01066, 0.304...</td>\n",
              "      <td>1.0</td>\n",
              "    </tr>\n",
              "    <tr>\n",
              "      <th>2</th>\n",
              "      <td>{'css_textTransform': [0.05485, 0.01066, 0.304...</td>\n",
              "      <td>{'css_textTransform': [0.05485, 0.01066, 0.304...</td>\n",
              "      <td>1.0</td>\n",
              "    </tr>\n",
              "    <tr>\n",
              "      <th>3</th>\n",
              "      <td>{'css_textTransform': [0.05485, 0.01066, 0.304...</td>\n",
              "      <td>{'css_textTransform': [0.05485, 0.01066, 0.304...</td>\n",
              "      <td>1.0</td>\n",
              "    </tr>\n",
              "    <tr>\n",
              "      <th>4</th>\n",
              "      <td>{'css_textTransform': [0.05485, 0.01066, 0.304...</td>\n",
              "      <td>{'css_textTransform': [0.05485, 0.01066, 0.304...</td>\n",
              "      <td>1.0</td>\n",
              "    </tr>\n",
              "    <tr>\n",
              "      <th>...</th>\n",
              "      <td>...</td>\n",
              "      <td>...</td>\n",
              "      <td>...</td>\n",
              "    </tr>\n",
              "    <tr>\n",
              "      <th>33095</th>\n",
              "      <td>{'css_textTransform': [0.05485, 0.01066, 0.304...</td>\n",
              "      <td>{'css_textTransform': [0.05485, 0.01066, 0.304...</td>\n",
              "      <td>1.0</td>\n",
              "    </tr>\n",
              "    <tr>\n",
              "      <th>33096</th>\n",
              "      <td>{'css_textTransform': [0.05485, 0.01066, 0.304...</td>\n",
              "      <td>{'css_textTransform': [0.05485, 0.01066, 0.304...</td>\n",
              "      <td>0.0</td>\n",
              "    </tr>\n",
              "    <tr>\n",
              "      <th>33097</th>\n",
              "      <td>{'css_textTransform': [0.05485, 0.01066, 0.304...</td>\n",
              "      <td>{'css_textTransform': [0.05485, 0.01066, 0.304...</td>\n",
              "      <td>1.0</td>\n",
              "    </tr>\n",
              "    <tr>\n",
              "      <th>33098</th>\n",
              "      <td>{'css_textTransform': [0.05485, 0.01066, 0.304...</td>\n",
              "      <td>{'css_textTransform': [0.05485, 0.01066, 0.304...</td>\n",
              "      <td>0.0</td>\n",
              "    </tr>\n",
              "    <tr>\n",
              "      <th>33099</th>\n",
              "      <td>{'css_textTransform': [0.05485, 0.01066, 0.304...</td>\n",
              "      <td>{'css_textTransform': [0.05485, 0.01066, 0.304...</td>\n",
              "      <td>1.0</td>\n",
              "    </tr>\n",
              "  </tbody>\n",
              "</table>\n",
              "<p>33100 rows × 3 columns</p>\n",
              "</div>\n",
              "      <button class=\"colab-df-convert\" onclick=\"convertToInteractive('df-1efdadfd-44ac-4c2e-8a92-ba9215df6de8')\"\n",
              "              title=\"Convert this dataframe to an interactive table.\"\n",
              "              style=\"display:none;\">\n",
              "        \n",
              "  <svg xmlns=\"http://www.w3.org/2000/svg\" height=\"24px\"viewBox=\"0 0 24 24\"\n",
              "       width=\"24px\">\n",
              "    <path d=\"M0 0h24v24H0V0z\" fill=\"none\"/>\n",
              "    <path d=\"M18.56 5.44l.94 2.06.94-2.06 2.06-.94-2.06-.94-.94-2.06-.94 2.06-2.06.94zm-11 1L8.5 8.5l.94-2.06 2.06-.94-2.06-.94L8.5 2.5l-.94 2.06-2.06.94zm10 10l.94 2.06.94-2.06 2.06-.94-2.06-.94-.94-2.06-.94 2.06-2.06.94z\"/><path d=\"M17.41 7.96l-1.37-1.37c-.4-.4-.92-.59-1.43-.59-.52 0-1.04.2-1.43.59L10.3 9.45l-7.72 7.72c-.78.78-.78 2.05 0 2.83L4 21.41c.39.39.9.59 1.41.59.51 0 1.02-.2 1.41-.59l7.78-7.78 2.81-2.81c.8-.78.8-2.07 0-2.86zM5.41 20L4 18.59l7.72-7.72 1.47 1.35L5.41 20z\"/>\n",
              "  </svg>\n",
              "      </button>\n",
              "      \n",
              "  <style>\n",
              "    .colab-df-container {\n",
              "      display:flex;\n",
              "      flex-wrap:wrap;\n",
              "      gap: 12px;\n",
              "    }\n",
              "\n",
              "    .colab-df-convert {\n",
              "      background-color: #E8F0FE;\n",
              "      border: none;\n",
              "      border-radius: 50%;\n",
              "      cursor: pointer;\n",
              "      display: none;\n",
              "      fill: #1967D2;\n",
              "      height: 32px;\n",
              "      padding: 0 0 0 0;\n",
              "      width: 32px;\n",
              "    }\n",
              "\n",
              "    .colab-df-convert:hover {\n",
              "      background-color: #E2EBFA;\n",
              "      box-shadow: 0px 1px 2px rgba(60, 64, 67, 0.3), 0px 1px 3px 1px rgba(60, 64, 67, 0.15);\n",
              "      fill: #174EA6;\n",
              "    }\n",
              "\n",
              "    [theme=dark] .colab-df-convert {\n",
              "      background-color: #3B4455;\n",
              "      fill: #D2E3FC;\n",
              "    }\n",
              "\n",
              "    [theme=dark] .colab-df-convert:hover {\n",
              "      background-color: #434B5C;\n",
              "      box-shadow: 0px 1px 3px 1px rgba(0, 0, 0, 0.15);\n",
              "      filter: drop-shadow(0px 1px 2px rgba(0, 0, 0, 0.3));\n",
              "      fill: #FFFFFF;\n",
              "    }\n",
              "  </style>\n",
              "\n",
              "      <script>\n",
              "        const buttonEl =\n",
              "          document.querySelector('#df-1efdadfd-44ac-4c2e-8a92-ba9215df6de8 button.colab-df-convert');\n",
              "        buttonEl.style.display =\n",
              "          google.colab.kernel.accessAllowed ? 'block' : 'none';\n",
              "\n",
              "        async function convertToInteractive(key) {\n",
              "          const element = document.querySelector('#df-1efdadfd-44ac-4c2e-8a92-ba9215df6de8');\n",
              "          const dataTable =\n",
              "            await google.colab.kernel.invokeFunction('convertToInteractive',\n",
              "                                                     [key], {});\n",
              "          if (!dataTable) return;\n",
              "\n",
              "          const docLinkHtml = 'Like what you see? Visit the ' +\n",
              "            '<a target=\"_blank\" href=https://colab.research.google.com/notebooks/data_table.ipynb>data table notebook</a>'\n",
              "            + ' to learn more about interactive tables.';\n",
              "          element.innerHTML = '';\n",
              "          dataTable['output_type'] = 'display_data';\n",
              "          await google.colab.output.renderOutput(dataTable, element);\n",
              "          const docLink = document.createElement('div');\n",
              "          docLink.innerHTML = docLinkHtml;\n",
              "          element.appendChild(docLink);\n",
              "        }\n",
              "      </script>\n",
              "    </div>\n",
              "  </div>\n",
              "  "
            ]
          },
          "metadata": {},
          "execution_count": 34
        }
      ]
    },
    {
      "cell_type": "code",
      "metadata": {
        "id": "o6Jm4CO2DGEr"
      },
      "source": [
        "sort_attr = sorted(attr_mean.items(), key=lambda x: x[1], reverse=True)"
      ],
      "execution_count": null,
      "outputs": []
    },
    {
      "cell_type": "code",
      "metadata": {
        "colab": {
          "base_uri": "https://localhost:8080/"
        },
        "id": "zFrcUsUMLORT",
        "outputId": "527a8aa0-3cc4-41eb-b9af-31fda07ff3bd"
      },
      "source": [
        "type(sort_attr)"
      ],
      "execution_count": null,
      "outputs": [
        {
          "output_type": "execute_result",
          "data": {
            "text/plain": [
              "list"
            ]
          },
          "metadata": {
            "tags": []
          },
          "execution_count": 31
        }
      ]
    },
    {
      "cell_type": "code",
      "metadata": {
        "colab": {
          "base_uri": "https://localhost:8080/"
        },
        "id": "9CoE3hFbJVQG",
        "outputId": "a77b4a82-dd57-4826-9746-a024d55244cf"
      },
      "source": [
        "!pip install wandb"
      ],
      "execution_count": null,
      "outputs": [
        {
          "output_type": "stream",
          "text": [
            "Requirement already satisfied: wandb in /usr/local/lib/python3.7/dist-packages (0.10.31)\n",
            "Requirement already satisfied: psutil>=5.0.0 in /usr/local/lib/python3.7/dist-packages (from wandb) (5.4.8)\n",
            "Requirement already satisfied: protobuf>=3.12.0 in /usr/local/lib/python3.7/dist-packages (from wandb) (3.12.4)\n",
            "Requirement already satisfied: GitPython>=1.0.0 in /usr/local/lib/python3.7/dist-packages (from wandb) (3.1.17)\n",
            "Requirement already satisfied: configparser>=3.8.1 in /usr/local/lib/python3.7/dist-packages (from wandb) (5.0.2)\n",
            "Requirement already satisfied: PyYAML in /usr/local/lib/python3.7/dist-packages (from wandb) (3.13)\n",
            "Requirement already satisfied: requests<3,>=2.0.0 in /usr/local/lib/python3.7/dist-packages (from wandb) (2.23.0)\n",
            "Requirement already satisfied: pathtools in /usr/local/lib/python3.7/dist-packages (from wandb) (0.1.2)\n",
            "Requirement already satisfied: docker-pycreds>=0.4.0 in /usr/local/lib/python3.7/dist-packages (from wandb) (0.4.0)\n",
            "Requirement already satisfied: sentry-sdk>=0.4.0 in /usr/local/lib/python3.7/dist-packages (from wandb) (1.1.0)\n",
            "Requirement already satisfied: shortuuid>=0.5.0 in /usr/local/lib/python3.7/dist-packages (from wandb) (1.0.1)\n",
            "Requirement already satisfied: subprocess32>=3.5.3 in /usr/local/lib/python3.7/dist-packages (from wandb) (3.5.4)\n",
            "Requirement already satisfied: promise<3,>=2.0 in /usr/local/lib/python3.7/dist-packages (from wandb) (2.3)\n",
            "Requirement already satisfied: six>=1.13.0 in /usr/local/lib/python3.7/dist-packages (from wandb) (1.15.0)\n",
            "Requirement already satisfied: python-dateutil>=2.6.1 in /usr/local/lib/python3.7/dist-packages (from wandb) (2.8.1)\n",
            "Requirement already satisfied: Click>=7.0 in /usr/local/lib/python3.7/dist-packages (from wandb) (7.1.2)\n",
            "Requirement already satisfied: setuptools in /usr/local/lib/python3.7/dist-packages (from protobuf>=3.12.0->wandb) (56.1.0)\n",
            "Requirement already satisfied: typing-extensions>=3.7.4.0; python_version < \"3.8\" in /usr/local/lib/python3.7/dist-packages (from GitPython>=1.0.0->wandb) (3.7.4.3)\n",
            "Requirement already satisfied: gitdb<5,>=4.0.1 in /usr/local/lib/python3.7/dist-packages (from GitPython>=1.0.0->wandb) (4.0.7)\n",
            "Requirement already satisfied: certifi>=2017.4.17 in /usr/local/lib/python3.7/dist-packages (from requests<3,>=2.0.0->wandb) (2020.12.5)\n",
            "Requirement already satisfied: idna<3,>=2.5 in /usr/local/lib/python3.7/dist-packages (from requests<3,>=2.0.0->wandb) (2.10)\n",
            "Requirement already satisfied: urllib3!=1.25.0,!=1.25.1,<1.26,>=1.21.1 in /usr/local/lib/python3.7/dist-packages (from requests<3,>=2.0.0->wandb) (1.24.3)\n",
            "Requirement already satisfied: chardet<4,>=3.0.2 in /usr/local/lib/python3.7/dist-packages (from requests<3,>=2.0.0->wandb) (3.0.4)\n",
            "Requirement already satisfied: smmap<5,>=3.0.1 in /usr/local/lib/python3.7/dist-packages (from gitdb<5,>=4.0.1->GitPython>=1.0.0->wandb) (4.0.0)\n"
          ],
          "name": "stdout"
        }
      ]
    },
    {
      "cell_type": "code",
      "metadata": {
        "id": "KcwNKoSqAZjq"
      },
      "source": [
        "import random \n",
        "import numpy as np \n",
        "import keras \n",
        "import wandb \n",
        "from wandb.keras import WandbCallback \n",
        "from keras.models import Sequential, Model \n",
        "from keras.layers import Flatten, Dense, Concatenate, Dot, Lambda, Input ,Subtract\n",
        "from keras.datasets import mnist \n",
        "from keras.optimizers import Adam \n",
        "import matplotlib.pyplot as plt\n",
        "\n",
        "from keras.layers.advanced_activations import LeakyReLU"
      ],
      "execution_count": null,
      "outputs": []
    },
    {
      "cell_type": "code",
      "metadata": {
        "id": "VcI3WvXn_m5x"
      },
      "source": [
        "from keras.datasets import imdb\n",
        "from keras.models import Sequential,Model\n",
        "from keras.layers import Dense,Concatenate, Dropout\n",
        "from keras.layers import Flatten, Input ,Subtract\n",
        "from keras.layers.convolutional import Conv1D,Conv2D\n",
        "from keras.layers.convolutional import MaxPooling1D\n",
        "from keras.layers.embeddings import Embedding\n",
        "from keras.preprocessing import sequence\n",
        "import copy\n",
        "import wandb\n",
        "from wandb.keras import WandbCallback\n"
      ],
      "execution_count": null,
      "outputs": []
    },
    {
      "cell_type": "code",
      "metadata": {
        "id": "KdNThylHUxAR"
      },
      "source": [
        "input = Input((input_shape))\n",
        "\n",
        "x = Dense(100,'relu')(input)\n",
        "dense = Model(input, x) \n",
        "\n",
        "input1 = Input((input_shape), name='input_layer1')\n",
        "input2 = Input((input_shape), name='input_layer2') \n",
        "\n",
        "dense1 = dense(input1)\n",
        "dense2 = dense(input2) \n",
        "\n",
        "\n",
        "L1_layer = Lambda(lambda tensors:abs(tensors[1] - tensors[0]))\n",
        "L1_distance = L1_layer([dense1, dense2])\n",
        "dense_layer = Dense(1, activation='sigmoid', name='output_layer')(L1_distance) \n",
        "\n",
        "model = Model(inputs=[input1, input2], outputs=dense_layer)"
      ],
      "execution_count": null,
      "outputs": []
    },
    {
      "cell_type": "code",
      "metadata": {
        "id": "C8rwgi1-86dg"
      },
      "source": [
        "input_shape=(195,1)"
      ],
      "execution_count": null,
      "outputs": []
    },
    {
      "cell_type": "code",
      "metadata": {
        "id": "UfBVQO8fFvO7"
      },
      "source": [
        "left_input = Input(input_shape,name='input_layer1')\n",
        "right_input = Input(input_shape,name='input_layer2')\n",
        "\n",
        "\n",
        "model = Sequential()\n",
        "\n",
        "\n",
        "\n",
        "model.add(Conv1D(8, 3, padding='same', activation='relu'))\n",
        "model.add(Conv1D(4, 3, padding='same', activation='relu'))\n",
        "model.add(MaxPooling1D())\n",
        "model.add(Flatten())\n",
        "#model.add(Dropout(0.5))\n",
        "\n",
        "\n",
        "model.add(Dense(10, activation='relu'))\n",
        "\n",
        "\n",
        "\n",
        "dense1=model(left_input)\n",
        "dense2=model(right_input)\n",
        "\n",
        "L1_layer = Lambda(lambda tensors:abs(tensors[1] - tensors[0]))\n",
        "L1_distance = L1_layer([dense1, dense2])\n",
        "dense_layer = Dense(1, activation=\"sigmoid\", name='output_layer')(L1_distance) \n",
        "\n",
        "model = Model(inputs=[left_input, right_input], outputs=dense_layer)"
      ],
      "execution_count": null,
      "outputs": []
    },
    {
      "cell_type": "code",
      "metadata": {
        "id": "ad8sKlrlIYUr"
      },
      "source": [
        "model.compile(loss = \"binary_crossentropy\", optimizer = \"nadam\", metrics=[\"accuracy\"])"
      ],
      "execution_count": null,
      "outputs": []
    },
    {
      "cell_type": "code",
      "metadata": {
        "colab": {
          "base_uri": "https://localhost:8080/"
        },
        "id": "HI4nk1BKMXga",
        "outputId": "c43a1e05-d622-43f0-dbc7-a246bd352bc6"
      },
      "source": [
        "model.summary()"
      ],
      "execution_count": null,
      "outputs": [
        {
          "output_type": "stream",
          "text": [
            "Model: \"model_1\"\n",
            "__________________________________________________________________________________________________\n",
            "Layer (type)                    Output Shape         Param #     Connected to                     \n",
            "==================================================================================================\n",
            "input_layer1 (InputLayer)       [(None, 195)]        0                                            \n",
            "__________________________________________________________________________________________________\n",
            "input_layer2 (InputLayer)       [(None, 195)]        0                                            \n",
            "__________________________________________________________________________________________________\n",
            "model (Functional)              (None, 100)          19600       input_layer1[0][0]               \n",
            "                                                                 input_layer2[0][0]               \n",
            "__________________________________________________________________________________________________\n",
            "lambda (Lambda)                 (None, 100)          0           model[0][0]                      \n",
            "                                                                 model[1][0]                      \n",
            "__________________________________________________________________________________________________\n",
            "output_layer (Dense)            (None, 1)            101         lambda[0][0]                     \n",
            "==================================================================================================\n",
            "Total params: 19,701\n",
            "Trainable params: 19,701\n",
            "Non-trainable params: 0\n",
            "__________________________________________________________________________________________________\n"
          ],
          "name": "stdout"
        }
      ]
    },
    {
      "cell_type": "code",
      "metadata": {
        "id": "EO1U0CSyg-z0"
      },
      "source": [
        "def set_to_values(column):\n",
        "  arr_answ=[]\n",
        "  for el in df_add[column]:\n",
        "     arr_items=[]\n",
        "     for  item in list(el.values()):\n",
        "       np.transpose(arr_items.extend(item))\n",
        "     arr_answ.extend([arr_items])\n",
        "  return (np.array(arr_answ))"
      ],
      "execution_count": null,
      "outputs": []
    },
    {
      "cell_type": "code",
      "metadata": {
        "colab": {
          "base_uri": "https://localhost:8080/",
          "height": 419
        },
        "id": "0T9w0A4_lIzn",
        "outputId": "a1de36d0-65b0-432c-e967-4d26ba3fa3a9"
      },
      "source": [
        "df_edir"
      ],
      "execution_count": null,
      "outputs": [
        {
          "output_type": "execute_result",
          "data": {
            "text/html": [
              "<div>\n",
              "<style scoped>\n",
              "    .dataframe tbody tr th:only-of-type {\n",
              "        vertical-align: middle;\n",
              "    }\n",
              "\n",
              "    .dataframe tbody tr th {\n",
              "        vertical-align: top;\n",
              "    }\n",
              "\n",
              "    .dataframe thead th {\n",
              "        text-align: right;\n",
              "    }\n",
              "</style>\n",
              "<table border=\"1\" class=\"dataframe\">\n",
              "  <thead>\n",
              "    <tr style=\"text-align: right;\">\n",
              "      <th></th>\n",
              "      <th>element</th>\n",
              "      <th>signature</th>\n",
              "      <th>prediction</th>\n",
              "    </tr>\n",
              "  </thead>\n",
              "  <tbody>\n",
              "    <tr>\n",
              "      <th>0</th>\n",
              "      <td>{'css_maxWidth': [0.05485, 0.01066, 0.3046875]...</td>\n",
              "      <td>{'css_maxWidth': [0.05485, 0.01066, 0.3046875]...</td>\n",
              "      <td>0.0</td>\n",
              "    </tr>\n",
              "    <tr>\n",
              "      <th>1</th>\n",
              "      <td>{'css_maxWidth': [0.05485, 0.01066, 0.3046875]...</td>\n",
              "      <td>{'css_maxWidth': [0.05485, 0.01066, 0.3046875]...</td>\n",
              "      <td>1.0</td>\n",
              "    </tr>\n",
              "    <tr>\n",
              "      <th>2</th>\n",
              "      <td>{'css_maxWidth': [0.05485, 0.01066, 0.3046875]...</td>\n",
              "      <td>{'css_maxWidth': [0.05485, 0.01066, 0.3046875]...</td>\n",
              "      <td>0.0</td>\n",
              "    </tr>\n",
              "    <tr>\n",
              "      <th>3</th>\n",
              "      <td>{'css_maxWidth': [0.05485, 0.01066, 0.3046875]...</td>\n",
              "      <td>{'css_maxWidth': [0.05485, 0.01066, 0.3046875]...</td>\n",
              "      <td>1.0</td>\n",
              "    </tr>\n",
              "    <tr>\n",
              "      <th>4</th>\n",
              "      <td>{'css_maxWidth': [0.05485, 0.01066, 0.3046875]...</td>\n",
              "      <td>{'css_maxWidth': [0.05485, 0.01066, 0.3046875]...</td>\n",
              "      <td>0.0</td>\n",
              "    </tr>\n",
              "    <tr>\n",
              "      <th>...</th>\n",
              "      <td>...</td>\n",
              "      <td>...</td>\n",
              "      <td>...</td>\n",
              "    </tr>\n",
              "    <tr>\n",
              "      <th>16545</th>\n",
              "      <td>{'css_maxWidth': [0.05485, 0.01066, 0.3046875]...</td>\n",
              "      <td>{'css_maxWidth': [0.05485, 0.01066, 0.3046875]...</td>\n",
              "      <td>1.0</td>\n",
              "    </tr>\n",
              "    <tr>\n",
              "      <th>16546</th>\n",
              "      <td>{'css_maxWidth': [0.01906, 0.01357, 0.06224000...</td>\n",
              "      <td>{'css_maxWidth': [0.05485, 0.01066, 0.3046875]...</td>\n",
              "      <td>0.0</td>\n",
              "    </tr>\n",
              "    <tr>\n",
              "      <th>16547</th>\n",
              "      <td>{'css_maxWidth': [0.05485, 0.01066, 0.3046875]...</td>\n",
              "      <td>{'css_maxWidth': [0.05485, 0.01066, 0.3046875]...</td>\n",
              "      <td>1.0</td>\n",
              "    </tr>\n",
              "    <tr>\n",
              "      <th>16548</th>\n",
              "      <td>{'css_maxWidth': [0.020225, 0.00437, 0.1484375...</td>\n",
              "      <td>{'css_maxWidth': [0.020225, 0.00437, 0.1484375...</td>\n",
              "      <td>0.0</td>\n",
              "    </tr>\n",
              "    <tr>\n",
              "      <th>16549</th>\n",
              "      <td>{'css_maxWidth': [0.020225, 0.00437, 0.1484375...</td>\n",
              "      <td>{'css_maxWidth': [0.020225, 0.00437, 0.1484375...</td>\n",
              "      <td>1.0</td>\n",
              "    </tr>\n",
              "  </tbody>\n",
              "</table>\n",
              "<p>16550 rows × 3 columns</p>\n",
              "</div>"
            ],
            "text/plain": [
              "                                                 element  ... prediction\n",
              "0      {'css_maxWidth': [0.05485, 0.01066, 0.3046875]...  ...        0.0\n",
              "1      {'css_maxWidth': [0.05485, 0.01066, 0.3046875]...  ...        1.0\n",
              "2      {'css_maxWidth': [0.05485, 0.01066, 0.3046875]...  ...        0.0\n",
              "3      {'css_maxWidth': [0.05485, 0.01066, 0.3046875]...  ...        1.0\n",
              "4      {'css_maxWidth': [0.05485, 0.01066, 0.3046875]...  ...        0.0\n",
              "...                                                  ...  ...        ...\n",
              "16545  {'css_maxWidth': [0.05485, 0.01066, 0.3046875]...  ...        1.0\n",
              "16546  {'css_maxWidth': [0.01906, 0.01357, 0.06224000...  ...        0.0\n",
              "16547  {'css_maxWidth': [0.05485, 0.01066, 0.3046875]...  ...        1.0\n",
              "16548  {'css_maxWidth': [0.020225, 0.00437, 0.1484375...  ...        0.0\n",
              "16549  {'css_maxWidth': [0.020225, 0.00437, 0.1484375...  ...        1.0\n",
              "\n",
              "[16550 rows x 3 columns]"
            ]
          },
          "metadata": {
            "tags": []
          },
          "execution_count": 43
        }
      ]
    },
    {
      "cell_type": "code",
      "metadata": {
        "colab": {
          "base_uri": "https://localhost:8080/",
          "height": 167
        },
        "id": "T22lSoQRlMMq",
        "outputId": "bb9812e6-2ca1-4dc4-9ace-cd74e485aeb6"
      },
      "source": [
        "df_add"
      ],
      "execution_count": null,
      "outputs": [
        {
          "output_type": "error",
          "ename": "NameError",
          "evalue": "ignored",
          "traceback": [
            "\u001b[0;31m---------------------------------------------------------------------------\u001b[0m",
            "\u001b[0;31mNameError\u001b[0m                                 Traceback (most recent call last)",
            "\u001b[0;32m<ipython-input-1-b5453803b18a>\u001b[0m in \u001b[0;36m<module>\u001b[0;34m()\u001b[0m\n\u001b[0;32m----> 1\u001b[0;31m \u001b[0mdf_add\u001b[0m\u001b[0;34m\u001b[0m\u001b[0;34m\u001b[0m\u001b[0m\n\u001b[0m",
            "\u001b[0;31mNameError\u001b[0m: name 'df_add' is not defined"
          ]
        }
      ]
    },
    {
      "cell_type": "code",
      "metadata": {
        "id": "_YYYwEWhawVt"
      },
      "source": [
        "df_edir=df_edir.sample(frac=1)"
      ],
      "execution_count": null,
      "outputs": []
    },
    {
      "cell_type": "code",
      "metadata": {
        "id": "E1Ol1VNmhHi2"
      },
      "source": [
        "df_add=df_add.sample(frac=1)"
      ],
      "execution_count": null,
      "outputs": []
    },
    {
      "cell_type": "code",
      "metadata": {
        "id": "bOH6dfcxnfJP"
      },
      "source": [
        "arr1=set_to_values('element')\n",
        "arr1.shape"
      ],
      "execution_count": null,
      "outputs": []
    },
    {
      "cell_type": "code",
      "source": [
        "arr1"
      ],
      "metadata": {
        "id": "DY8KccC3ZQp9",
        "outputId": "d630a72f-2886-4501-f683-0aba2227089a",
        "colab": {
          "base_uri": "https://localhost:8080/"
        }
      },
      "execution_count": null,
      "outputs": [
        {
          "output_type": "execute_result",
          "data": {
            "text/plain": [
              "array([[0.05485  , 0.01066  , 0.3046875, ..., 0.       , 0.       ,\n",
              "        0.       ],\n",
              "       [0.05485  , 0.01066  , 0.3046875, ..., 0.       , 0.       ,\n",
              "        0.       ],\n",
              "       [0.05485  , 0.01066  , 0.3046875, ..., 0.       , 0.       ,\n",
              "        0.       ],\n",
              "       ...,\n",
              "       [0.05485  , 0.01066  , 0.3046875, ..., 0.       , 0.       ,\n",
              "        0.       ],\n",
              "       [0.05485  , 0.01066  , 0.3046875, ..., 0.       , 0.       ,\n",
              "        0.       ],\n",
              "       [0.05485  , 0.01066  , 0.3046875, ..., 0.       , 0.       ,\n",
              "        0.       ]])"
            ]
          },
          "metadata": {},
          "execution_count": 39
        }
      ]
    },
    {
      "cell_type": "code",
      "metadata": {
        "id": "F814CVfeKC_c"
      },
      "source": [
        "arr2=set_to_values('signature')"
      ],
      "execution_count": null,
      "outputs": []
    },
    {
      "cell_type": "code",
      "metadata": {
        "colab": {
          "base_uri": "https://localhost:8080/",
          "height": 767,
          "referenced_widgets": [
            "4ad85d7a1178489c8dacebc3b1f5abab",
            "9912c5952d974bca8288899ef8167d43",
            "90648828edb64eb48ae73cf951817c76",
            "3ec4e09c102e4bdfad76df64b273d940",
            "fab6357667554c66a12e126fecbe2623",
            "2df17294b5e74cbb9027960aa4d60d8e",
            "5fc8738f3e64431aaff4a9ee1155b0a0",
            "20637c3c35584490ba5eba140681fb69"
          ]
        },
        "id": "nAqt-7NCCpV5",
        "outputId": "a320d88f-dac8-43cf-b361-da5cd4da7fd0"
      },
      "source": [
        "wandb.init()"
      ],
      "execution_count": null,
      "outputs": [
        {
          "output_type": "display_data",
          "data": {
            "text/html": [
              "Finishing last run (ID:28f2jy4p) before initializing another..."
            ],
            "text/plain": [
              "<IPython.core.display.HTML object>"
            ]
          },
          "metadata": {
            "tags": []
          }
        },
        {
          "output_type": "display_data",
          "data": {
            "text/html": [
              "<br/>Waiting for W&B process to finish, PID 786<br/>Program ended successfully."
            ],
            "text/plain": [
              "<IPython.core.display.HTML object>"
            ]
          },
          "metadata": {
            "tags": []
          }
        },
        {
          "output_type": "display_data",
          "data": {
            "application/vnd.jupyter.widget-view+json": {
              "model_id": "4ad85d7a1178489c8dacebc3b1f5abab",
              "version_major": 2,
              "version_minor": 0
            },
            "text/plain": [
              "VBox(children=(Label(value=' 0.00MB of 0.00MB uploaded (0.00MB deduped)\\r'), FloatProgress(value=1.0, max=1.0)…"
            ]
          },
          "metadata": {
            "tags": []
          }
        },
        {
          "output_type": "display_data",
          "data": {
            "text/html": [
              "Find user logs for this run at: <code>/content/wandb/run-20210528_171028-28f2jy4p/logs/debug.log</code>"
            ],
            "text/plain": [
              "<IPython.core.display.HTML object>"
            ]
          },
          "metadata": {
            "tags": []
          }
        },
        {
          "output_type": "display_data",
          "data": {
            "text/html": [
              "Find internal logs for this run at: <code>/content/wandb/run-20210528_171028-28f2jy4p/logs/debug-internal.log</code>"
            ],
            "text/plain": [
              "<IPython.core.display.HTML object>"
            ]
          },
          "metadata": {
            "tags": []
          }
        },
        {
          "output_type": "display_data",
          "data": {
            "text/html": [
              "Synced 4 W&B file(s), 0 media file(s), 0 artifact file(s) and 0 other file(s)"
            ],
            "text/plain": [
              "<IPython.core.display.HTML object>"
            ]
          },
          "metadata": {
            "tags": []
          }
        },
        {
          "output_type": "display_data",
          "data": {
            "text/html": [
              "\n",
              "                    <br/>Synced <strong style=\"color:#cdcd00\">smooth-frost-785</strong>: <a href=\"https://wandb.ai/ruzya2020/uncategorized/runs/28f2jy4p\" target=\"_blank\">https://wandb.ai/ruzya2020/uncategorized/runs/28f2jy4p</a><br/>\n",
              "                "
            ],
            "text/plain": [
              "<IPython.core.display.HTML object>"
            ]
          },
          "metadata": {
            "tags": []
          }
        },
        {
          "output_type": "display_data",
          "data": {
            "text/html": [
              "...Successfully finished last run (ID:28f2jy4p). Initializing new run:<br/><br/>"
            ],
            "text/plain": [
              "<IPython.core.display.HTML object>"
            ]
          },
          "metadata": {
            "tags": []
          }
        },
        {
          "output_type": "display_data",
          "data": {
            "text/html": [
              "\n",
              "                Tracking run with wandb version 0.10.31<br/>\n",
              "                Syncing run <strong style=\"color:#cdcd00\">fresh-valley-786</strong> to <a href=\"https://wandb.ai\" target=\"_blank\">Weights & Biases</a> <a href=\"https://docs.wandb.com/integrations/jupyter.html\" target=\"_blank\">(Documentation)</a>.<br/>\n",
              "                Project page: <a href=\"https://wandb.ai/ruzya2020/uncategorized\" target=\"_blank\">https://wandb.ai/ruzya2020/uncategorized</a><br/>\n",
              "                Run page: <a href=\"https://wandb.ai/ruzya2020/uncategorized/runs/102n1abn\" target=\"_blank\">https://wandb.ai/ruzya2020/uncategorized/runs/102n1abn</a><br/>\n",
              "                Run data is saved locally in <code>/content/wandb/run-20210528_171104-102n1abn</code><br/><br/>\n",
              "            "
            ],
            "text/plain": [
              "<IPython.core.display.HTML object>"
            ]
          },
          "metadata": {
            "tags": []
          }
        },
        {
          "output_type": "execute_result",
          "data": {
            "text/html": [
              "<h1>Run(102n1abn)</h1><iframe src=\"https://wandb.ai/ruzya2020/uncategorized/runs/102n1abn\" style=\"border:none;width:100%;height:400px\"></iframe>"
            ],
            "text/plain": [
              "<wandb.sdk.wandb_run.Run at 0x7f6888506b50>"
            ]
          },
          "metadata": {
            "tags": []
          },
          "execution_count": 51
        }
      ]
    },
    {
      "cell_type": "code",
      "metadata": {
        "colab": {
          "base_uri": "https://localhost:8080/"
        },
        "id": "aAia30-61aON",
        "outputId": "9b080c64-54ad-4a78-dec8-ea511a469e35"
      },
      "source": [
        "\n",
        "size=11000\n",
        "\n",
        "model.fit([arr1[:size],arr2[:size]],np.array(df_add['prediction'][:size]), batch_size=100, epochs=40, callbacks=[WandbCallback()], validation_data=([arr1[size:],arr2[size:]],np.array(df_add['prediction'][size:])))"
      ],
      "execution_count": null,
      "outputs": [
        {
          "output_type": "stream",
          "text": [
            "Epoch 1/40\n",
            "110/110 [==============================] - 2s 9ms/step - loss: 0.7305 - accuracy: 0.7311 - val_loss: 0.4907 - val_accuracy: 0.9919\n",
            "Epoch 2/40\n",
            "110/110 [==============================] - 1s 5ms/step - loss: 0.4677 - accuracy: 0.9944 - val_loss: 0.4011 - val_accuracy: 0.9918\n",
            "Epoch 3/40\n",
            "110/110 [==============================] - 1s 5ms/step - loss: 0.3879 - accuracy: 0.9920 - val_loss: 0.3433 - val_accuracy: 0.9915\n",
            "Epoch 4/40\n",
            "110/110 [==============================] - 1s 5ms/step - loss: 0.3351 - accuracy: 0.9901 - val_loss: 0.3013 - val_accuracy: 0.9911\n",
            "Epoch 5/40\n",
            "110/110 [==============================] - 1s 5ms/step - loss: 0.2935 - accuracy: 0.9913 - val_loss: 0.2689 - val_accuracy: 0.9910\n",
            "Epoch 6/40\n",
            "110/110 [==============================] - 1s 5ms/step - loss: 0.2653 - accuracy: 0.9907 - val_loss: 0.2428 - val_accuracy: 0.9918\n",
            "Epoch 7/40\n",
            "110/110 [==============================] - 1s 5ms/step - loss: 0.2414 - accuracy: 0.9905 - val_loss: 0.2210 - val_accuracy: 0.9919\n",
            "Epoch 8/40\n",
            "110/110 [==============================] - 1s 5ms/step - loss: 0.2135 - accuracy: 0.9945 - val_loss: 0.2023 - val_accuracy: 0.9922\n",
            "Epoch 9/40\n",
            "110/110 [==============================] - 1s 5ms/step - loss: 0.2012 - accuracy: 0.9919 - val_loss: 0.1861 - val_accuracy: 0.9928\n",
            "Epoch 10/40\n",
            "110/110 [==============================] - 1s 5ms/step - loss: 0.1794 - accuracy: 0.9939 - val_loss: 0.1718 - val_accuracy: 0.9929\n",
            "Epoch 11/40\n",
            "110/110 [==============================] - 1s 5ms/step - loss: 0.1697 - accuracy: 0.9932 - val_loss: 0.1591 - val_accuracy: 0.9934\n",
            "Epoch 12/40\n",
            "110/110 [==============================] - 1s 5ms/step - loss: 0.1557 - accuracy: 0.9943 - val_loss: 0.1479 - val_accuracy: 0.9937\n",
            "Epoch 13/40\n",
            "110/110 [==============================] - 1s 5ms/step - loss: 0.1396 - accuracy: 0.9953 - val_loss: 0.1377 - val_accuracy: 0.9939\n",
            "Epoch 14/40\n",
            "110/110 [==============================] - 1s 5ms/step - loss: 0.1356 - accuracy: 0.9931 - val_loss: 0.1285 - val_accuracy: 0.9939\n",
            "Epoch 15/40\n",
            "110/110 [==============================] - 1s 5ms/step - loss: 0.1250 - accuracy: 0.9944 - val_loss: 0.1202 - val_accuracy: 0.9938\n",
            "Epoch 16/40\n",
            "110/110 [==============================] - 1s 5ms/step - loss: 0.1150 - accuracy: 0.9954 - val_loss: 0.1126 - val_accuracy: 0.9938\n",
            "Epoch 17/40\n",
            "110/110 [==============================] - 1s 5ms/step - loss: 0.1080 - accuracy: 0.9963 - val_loss: 0.1056 - val_accuracy: 0.9942\n",
            "Epoch 18/40\n",
            "110/110 [==============================] - 1s 5ms/step - loss: 0.1014 - accuracy: 0.9956 - val_loss: 0.0993 - val_accuracy: 0.9943\n",
            "Epoch 19/40\n",
            "110/110 [==============================] - 1s 5ms/step - loss: 0.0943 - accuracy: 0.9969 - val_loss: 0.0934 - val_accuracy: 0.9949\n",
            "Epoch 20/40\n",
            "110/110 [==============================] - 1s 5ms/step - loss: 0.0913 - accuracy: 0.9951 - val_loss: 0.0881 - val_accuracy: 0.9952\n",
            "Epoch 21/40\n",
            "110/110 [==============================] - 1s 5ms/step - loss: 0.0840 - accuracy: 0.9965 - val_loss: 0.0831 - val_accuracy: 0.9953\n",
            "Epoch 22/40\n",
            "110/110 [==============================] - 1s 5ms/step - loss: 0.0792 - accuracy: 0.9969 - val_loss: 0.0785 - val_accuracy: 0.9956\n",
            "Epoch 23/40\n",
            "110/110 [==============================] - 1s 5ms/step - loss: 0.0741 - accuracy: 0.9971 - val_loss: 0.0743 - val_accuracy: 0.9956\n",
            "Epoch 24/40\n",
            "110/110 [==============================] - 1s 5ms/step - loss: 0.0736 - accuracy: 0.9968 - val_loss: 0.0703 - val_accuracy: 0.9957\n",
            "Epoch 25/40\n",
            "110/110 [==============================] - 1s 5ms/step - loss: 0.0678 - accuracy: 0.9976 - val_loss: 0.0667 - val_accuracy: 0.9956\n",
            "Epoch 26/40\n",
            "110/110 [==============================] - 1s 5ms/step - loss: 0.0639 - accuracy: 0.9968 - val_loss: 0.0633 - val_accuracy: 0.9955\n",
            "Epoch 27/40\n",
            "110/110 [==============================] - 1s 5ms/step - loss: 0.0591 - accuracy: 0.9979 - val_loss: 0.0602 - val_accuracy: 0.9955\n",
            "Epoch 28/40\n",
            "110/110 [==============================] - 1s 5ms/step - loss: 0.0579 - accuracy: 0.9977 - val_loss: 0.0572 - val_accuracy: 0.9959\n",
            "Epoch 29/40\n",
            "110/110 [==============================] - 1s 5ms/step - loss: 0.0536 - accuracy: 0.9979 - val_loss: 0.0545 - val_accuracy: 0.9958\n",
            "Epoch 30/40\n",
            "110/110 [==============================] - 1s 5ms/step - loss: 0.0516 - accuracy: 0.9970 - val_loss: 0.0519 - val_accuracy: 0.9958\n",
            "Epoch 31/40\n",
            "110/110 [==============================] - 1s 5ms/step - loss: 0.0493 - accuracy: 0.9969 - val_loss: 0.0495 - val_accuracy: 0.9958\n",
            "Epoch 32/40\n",
            "110/110 [==============================] - 1s 5ms/step - loss: 0.0450 - accuracy: 0.9979 - val_loss: 0.0472 - val_accuracy: 0.9958\n",
            "Epoch 33/40\n",
            "110/110 [==============================] - 1s 5ms/step - loss: 0.0444 - accuracy: 0.9971 - val_loss: 0.0451 - val_accuracy: 0.9959\n",
            "Epoch 34/40\n",
            "110/110 [==============================] - 1s 5ms/step - loss: 0.0409 - accuracy: 0.9982 - val_loss: 0.0431 - val_accuracy: 0.9959\n",
            "Epoch 35/40\n",
            "110/110 [==============================] - 1s 5ms/step - loss: 0.0411 - accuracy: 0.9968 - val_loss: 0.0413 - val_accuracy: 0.9959\n",
            "Epoch 36/40\n",
            "110/110 [==============================] - 1s 5ms/step - loss: 0.0371 - accuracy: 0.9973 - val_loss: 0.0395 - val_accuracy: 0.9959\n",
            "Epoch 37/40\n",
            "110/110 [==============================] - 1s 5ms/step - loss: 0.0364 - accuracy: 0.9963 - val_loss: 0.0379 - val_accuracy: 0.9960\n",
            "Epoch 38/40\n",
            "110/110 [==============================] - 1s 5ms/step - loss: 0.0328 - accuracy: 0.9980 - val_loss: 0.0363 - val_accuracy: 0.9960\n",
            "Epoch 39/40\n",
            "110/110 [==============================] - 1s 5ms/step - loss: 0.0331 - accuracy: 0.9977 - val_loss: 0.0348 - val_accuracy: 0.9961\n",
            "Epoch 40/40\n",
            "110/110 [==============================] - 1s 5ms/step - loss: 0.0303 - accuracy: 0.9981 - val_loss: 0.0334 - val_accuracy: 0.9964\n"
          ],
          "name": "stdout"
        },
        {
          "output_type": "execute_result",
          "data": {
            "text/plain": [
              "<keras.callbacks.History at 0x7f688861d550>"
            ]
          },
          "metadata": {
            "tags": []
          },
          "execution_count": 54
        }
      ]
    },
    {
      "cell_type": "code",
      "metadata": {
        "id": "dct0Jm5Yq5jz"
      },
      "source": [
        "\n",
        "size=11000\n",
        "\n",
        "model.fit([arr1[:size],arr1[:size]],np.full((33100), 1)[:size], batch_size=100, epochs=50, callbacks=[WandbCallback()], validation_data=([arr1[size:],arr1[size:]],np.full((33100), 1)[size:]))"
      ],
      "execution_count": null,
      "outputs": []
    },
    {
      "cell_type": "code",
      "metadata": {
        "colab": {
          "base_uri": "https://localhost:8080/"
        },
        "id": "KvfUffkee4lc",
        "outputId": "e258a3a0-de19-41e7-d208-a0310fc7e4ff"
      },
      "source": [
        "model.predict([[arr1,arr1]])"
      ],
      "execution_count": null,
      "outputs": [
        {
          "output_type": "execute_result",
          "data": {
            "text/plain": [
              "array([[0.9999995],\n",
              "       [0.9999995],\n",
              "       [0.9999995],\n",
              "       ...,\n",
              "       [0.9999995],\n",
              "       [0.9999995],\n",
              "       [0.9999995]], dtype=float32)"
            ]
          },
          "metadata": {
            "tags": []
          },
          "execution_count": 122
        }
      ]
    },
    {
      "cell_type": "code",
      "metadata": {
        "colab": {
          "base_uri": "https://localhost:8080/"
        },
        "id": "2J7JJVkDPLJc",
        "outputId": "4da3acf5-6d1f-42d5-fab9-bdf1d1412e5e"
      },
      "source": [
        "model.predict([[arr1,arr1]])"
      ],
      "execution_count": null,
      "outputs": [
        {
          "output_type": "execute_result",
          "data": {
            "text/plain": [
              "array([[1.],\n",
              "       [1.],\n",
              "       [1.],\n",
              "       ...,\n",
              "       [1.],\n",
              "       [1.],\n",
              "       [1.]], dtype=float32)"
            ]
          },
          "metadata": {
            "tags": []
          },
          "execution_count": 343
        }
      ]
    },
    {
      "cell_type": "code",
      "metadata": {
        "colab": {
          "base_uri": "https://localhost:8080/"
        },
        "id": "3s-Pq9UEEoy1",
        "outputId": "511f774b-040d-4864-c71b-2baefba726d0"
      },
      "source": [
        "model.evaluate([arr1[:],arr1[:]],np.full((33100), 1))"
      ],
      "execution_count": null,
      "outputs": [
        {
          "output_type": "stream",
          "text": [
            "1035/1035 [==============================] - 6s 5ms/step - loss: 0.0067 - accuracy: 1.0000\n"
          ],
          "name": "stdout"
        },
        {
          "output_type": "execute_result",
          "data": {
            "text/plain": [
              "[0.006715323776006699, 1.0]"
            ]
          },
          "metadata": {
            "tags": []
          },
          "execution_count": 52
        }
      ]
    },
    {
      "cell_type": "code",
      "metadata": {
        "colab": {
          "base_uri": "https://localhost:8080/"
        },
        "id": "lZj7fAGo9ie3",
        "outputId": "df52a255-f057-4a2c-efaa-5156f0bb3ca3"
      },
      "source": [
        "model.save(data_dir3)"
      ],
      "execution_count": null,
      "outputs": [
        {
          "output_type": "stream",
          "text": [
            "INFO:tensorflow:Assets written to: /content/gdrive/My Drive/Datasets/output_CNN32/assets\n"
          ],
          "name": "stdout"
        }
      ]
    }
  ]
}